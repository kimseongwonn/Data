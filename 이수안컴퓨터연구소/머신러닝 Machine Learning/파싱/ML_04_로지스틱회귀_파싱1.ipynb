{
 "cells": [
  {
   "cell_type": "code",
   "execution_count": 1,
   "metadata": {},
   "outputs": [],
   "source": [
    "import numpy as np\n",
    "import matplotlib.pyplot as plt\n",
    "from sklearn.linear_model import LogisticRegression\n",
    "\n",
    "# 간단한 예시 데이터 정의\n",
    "X = np.array([[1, 2], [2, 3], [3, 3], [4, 5], [5, 5], [6, 6], [7, 8], [8, 8]])\n",
    "y = np.array([0, 0, 0, 0, 1, 1, 1, 1])"
   ]
  },
  {
   "cell_type": "code",
   "execution_count": 2,
   "metadata": {},
   "outputs": [],
   "source": [
    "# 간단한 로지스틱 회귀 모델 학습\n",
    "model = LogisticRegression()\n",
    "model.fit(X, y)\n",
    "\n",
    "# 결정 경계 시각화를 위한 코드 실행\n",
    "x_min, x_max = X[:, 0].min() - 1, X[:, 0].max() + 1\n",
    "y_min, y_max = X[:, 1].min() - 1, X[:, 1].max() + 1"
   ]
  },
  {
   "cell_type": "code",
   "execution_count": 3,
   "metadata": {},
   "outputs": [
    {
     "name": "stdout",
     "output_type": "stream",
     "text": [
      "x_min : 0, x_max : 9\n",
      "--------------------------------------------------\n",
      "x_min : 1, x_max : 9\n"
     ]
    }
   ],
   "source": [
    "print(f'x_min : {x_min}, x_max : {x_max}')\n",
    "print('-'*50)\n",
    "print(f'x_min : {y_min}, x_max : {y_max}')"
   ]
  },
  {
   "cell_type": "code",
   "execution_count": 4,
   "metadata": {},
   "outputs": [
    {
     "name": "stdout",
     "output_type": "stream",
     "text": [
      "[[0.   0.02 0.04 ... 8.94 8.96 8.98]\n",
      " [0.   0.02 0.04 ... 8.94 8.96 8.98]\n",
      " [0.   0.02 0.04 ... 8.94 8.96 8.98]\n",
      " ...\n",
      " [0.   0.02 0.04 ... 8.94 8.96 8.98]\n",
      " [0.   0.02 0.04 ... 8.94 8.96 8.98]\n",
      " [0.   0.02 0.04 ... 8.94 8.96 8.98]]\n",
      "--------------------------------------------------\n",
      "[[1.   1.   1.   ... 1.   1.   1.  ]\n",
      " [1.02 1.02 1.02 ... 1.02 1.02 1.02]\n",
      " [1.04 1.04 1.04 ... 1.04 1.04 1.04]\n",
      " ...\n",
      " [8.94 8.94 8.94 ... 8.94 8.94 8.94]\n",
      " [8.96 8.96 8.96 ... 8.96 8.96 8.96]\n",
      " [8.98 8.98 8.98 ... 8.98 8.98 8.98]]\n"
     ]
    }
   ],
   "source": [
    "xx, yy = np.meshgrid(np.arange(x_min, x_max, 0.02), np.arange(y_min, y_max, 0.02))\n",
    "\n",
    "print(xx)\n",
    "print('-'*50)\n",
    "print(yy)"
   ]
  },
  {
   "cell_type": "code",
   "execution_count": 6,
   "metadata": {},
   "outputs": [
    {
     "name": "stdout",
     "output_type": "stream",
     "text": [
      "[[0.   1.  ]\n",
      " [0.02 1.  ]\n",
      " [0.04 1.  ]\n",
      " ...\n",
      " [8.94 8.98]\n",
      " [8.96 8.98]\n",
      " [8.98 8.98]]\n",
      "--------------------------------------------------\n",
      "[[0 0 0 ... 1 1 1]\n",
      " [0 0 0 ... 1 1 1]\n",
      " [0 0 0 ... 1 1 1]\n",
      " ...\n",
      " [0 0 0 ... 1 1 1]\n",
      " [0 0 0 ... 1 1 1]\n",
      " [0 0 0 ... 1 1 1]]\n"
     ]
    }
   ],
   "source": [
    "Z = model.predict(np.c_[xx.ravel(), yy.ravel()])\n",
    "Z = Z.reshape(xx.shape)\n",
    "\n",
    "print(np.c_[xx.ravel(), yy.ravel()])\n",
    "print('-'*50)\n",
    "print(Z)"
   ]
  },
  {
   "cell_type": "code",
   "execution_count": 7,
   "metadata": {},
   "outputs": [
    {
     "data": {
      "image/png": "[encoded data removed]",
      "text/plain": [
       "<Figure size 1000x600 with 1 Axes>"
      ]
     },
     "metadata": {},
     "output_type": "display_data"
    }
   ],
   "source": [
    "\n",
    "plt.figure(1, figsize=(10, 6))\n",
    "plt.pcolormesh(xx, yy, Z, cmap=plt.cm.Pastel1)\n",
    "\n",
    "plt.scatter(X[:, 0], X[:, 1], c=np.abs(y-1), edgecolors='k', alpha=0.5, cmap=plt.cm.coolwarm)\n",
    "plt.xlabel('X')\n",
    "plt.ylabel('y')\n",
    "\n",
    "plt.xlim(xx.min(), xx.max())\n",
    "plt.ylim(yy.min(), yy.max())\n",
    "\n",
    "plt.show()"
   ]
  },
  {
   "cell_type": "code",
   "execution_count": null,
   "metadata": {},
   "outputs": [],
   "source": []
  }
 ],
 "metadata": {
  "kernelspec": {
   "display_name": "Python 3",
   "language": "python",
   "name": "python3"
  },
  "language_info": {
   "codemirror_mode": {
    "name": "ipython",
    "version": 3
   },
   "file_extension": ".py",
   "mimetype": "text/x-python",
   "name": "python",
   "nbconvert_exporter": "python",
   "pygments_lexer": "ipython3",
   "version": "3.10.9"
  }
 },
 "nbformat": 4,
 "nbformat_minor": 2
}
