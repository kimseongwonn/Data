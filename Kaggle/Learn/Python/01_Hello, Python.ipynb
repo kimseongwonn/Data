{
 "cells": [
  {
   "cell_type": "markdown",
   "metadata": {},
   "source": [
    "# Kaggle Learn Python 기초 공부"
   ]
  },
  {
   "cell_type": "code",
   "execution_count": 1,
   "metadata": {},
   "outputs": [
    {
     "name": "stdout",
     "output_type": "stream",
     "text": [
      "0\n",
      "But I don't want ANY spam!\n",
      "Spam Spam Spam Spam \n"
     ]
    }
   ],
   "source": [
    "spam_amount = 0\n",
    "print(spam_amount)\n",
    "\n",
    "# Ordering Spam, egg, Spam, Spam, bacon and Spam (4 more servings of Spam)\n",
    "spam_amount = spam_amount + 4\n",
    "\n",
    "if spam_amount > 0:\n",
    "    print(\"But I don't want ANY spam!\")\n",
    "\n",
    "viking_song = \"Spam \" * spam_amount\n",
    "print(viking_song)"
   ]
  },
  {
   "cell_type": "markdown",
   "metadata": {},
   "source": [
    "### 변수 할당과 함수 호출"
   ]
  },
  {
   "cell_type": "code",
   "execution_count": 3,
   "metadata": {},
   "outputs": [
    {
     "name": "stdout",
     "output_type": "stream",
     "text": [
      "0\n"
     ]
    }
   ],
   "source": [
    "spam_amount = 0\n",
    "# 변수 할당 : 'spam_amount'라는 변수를 생성하고 할당 연산자('=')라고 하는 것을 사용하여 0 값을 할당해준다\n",
    "# Java나 C++와 같은 언어와 달리 변수를 할당하기 전에 선언(declare)할 필요가 없다\n",
    "# -> 어떤 유형의 값이 참조될지 선언할 필요 없으며 'spam_amout'에 string(문자열)이나 boolean(참,거짓)과 같은 다른 종류의 값으로 재할당도 가능하다\n",
    "\n",
    "print(spam_amount)\n",
    "# 함수 호출 : print()는 전달된 값을 화면에 표시하는 python 함수이다\n",
    "# 함수 이름 뒤 괄호()를 넣고 괄호안에 함수에 대한 입력(또는 인수)을 넣어 함수를 호출(실행)한다"
   ]
  },
  {
   "cell_type": "markdown",
   "metadata": {},
   "source": [
    "### 주석과 재할당"
   ]
  },
  {
   "cell_type": "code",
   "execution_count": 5,
   "metadata": {},
   "outputs": [],
   "source": [
    "# Ordering Spam, egg, Spam, Spam, bacon and Spam (4 more servings of Spam)\n",
    "# '#'을 사용하여 주석을 남길 수 있다 주석은 코드 구현에 영향을 미치지 않는 설명문과 같은 역할을 한다\n",
    "\n",
    "spam_amount = spam_amount + 4\n",
    "# 재할당 : 기본의 변수 값을 재할당 하는 것은 변수 할당과 마찬가지로 할당 연산자('=')를 사용한다\n",
    "# 위의 경우 우리가 할당하는 값은 'spam_amount' 이전 값에 대한 간단한 산술 연산을 포함한다 (0 + 4 = 4)"
   ]
  },
  {
   "cell_type": "markdown",
   "metadata": {},
   "source": [
    "### 조건문"
   ]
  },
  {
   "cell_type": "code",
   "execution_count": 6,
   "metadata": {},
   "outputs": [
    {
     "name": "stdout",
     "output_type": "stream",
     "text": [
      "But I don't want ANY spam!\n",
      "Spam Spam Spam\n"
     ]
    }
   ],
   "source": [
    "if spam_amount > 0:\n",
    "    print(\"But I don't want ANY spam!\")\n",
    "# if(조건문) : if 뒤의 spam_amount > 0 의 조건이 참이될 경우 아래 print()가 실행된다\n",
    "\n",
    "viking_song = \"Spam Spam Spam\"\n",
    "print(viking_song)\n",
    "# 그러나 다음 print()함수의 경우 무조건 실행된다\n",
    "\n",
    "# 두 print()함수의 차이는? >> ':' 줄의 끝에 있는 콜론은 새로운 코드 블록이 시작됨을 나타낸다 들여쓰기 된 부분부터 해당 코드 블록의 일부\n",
    "# 즉 앞의 print()는 if(조건절) 코드 블록에 속하여 조건이 충족될 때만 실행이 되고 뒤의 print()는 조건절에 속하지 않는 코드 블록에 있으므로 무조건 실행된다"
   ]
  },
  {
   "cell_type": "markdown",
   "metadata": {},
   "source": [
    "### 문자열"
   ]
  },
  {
   "cell_type": "code",
   "execution_count": 7,
   "metadata": {},
   "outputs": [
    {
     "name": "stdout",
     "output_type": "stream",
     "text": [
      "Spam Spam Spam Spam \n"
     ]
    }
   ],
   "source": [
    "\"But I don't want ANY spam!\"\n",
    "# 다음과 같은 값의 유형을 문자열(string)이라고 하며 '' 또는 \"\" 를 사용하여 생성한다\n",
    "# 단, 문자열 내부에 작은따옴표 또는 큰따옴표가 있는 경우 포함되지 않은 따옴표를 사용하여 생성해야 오류가 발생하지 않는다\n",
    "\n",
    "viking_song = \"Spam \" * spam_amount\n",
    "print(viking_song)\n",
    "# 연산자 * 은 두 숫자를 곱하는데 사용할 수 있지만 문자열과 숫자를 곱하여 곱한 숫자 횟수 만큼 문자열이 반복되는 결과를 얻을 수 있게 해준다\n",
    "# 이와 관련된 부분은 뒤에서 더 자세히 다뤄보겠다"
   ]
  },
  {
   "cell_type": "markdown",
   "metadata": {},
   "source": [
    "### 숫자와 연산자"
   ]
  },
  {
   "cell_type": "code",
   "execution_count": 8,
   "metadata": {},
   "outputs": [
    {
     "data": {
      "text/plain": [
       "int"
      ]
     },
     "execution_count": 8,
     "metadata": {},
     "output_type": "execute_result"
    }
   ],
   "source": [
    "spam_amount = 0\n",
    "type(spam_amount)\n",
    "\n",
    "# 숫자형 데이터에는 여러 종류가 존재\n",
    "# int : 정수형(integer)의 줄임말"
   ]
  },
  {
   "cell_type": "code",
   "execution_count": 9,
   "metadata": {},
   "outputs": [
    {
     "data": {
      "text/plain": [
       "float"
      ]
     },
     "execution_count": 9,
     "metadata": {},
     "output_type": "execute_result"
    }
   ],
   "source": [
    "type(19.95)\n",
    "# float : 실수형(float)로 소수점 자리수가 있는 숫자\n",
    "\n",
    "# type() : 데이터의 형태를 알 수 있는 함수"
   ]
  },
  {
   "cell_type": "code",
   "execution_count": 12,
   "metadata": {},
   "outputs": [
    {
     "name": "stdout",
     "output_type": "stream",
     "text": [
      "a + b = 7\n",
      "a - b = 3\n",
      "a * b = 10\n",
      "a / b = 2.5\n",
      "a // b = 2\n",
      "a % b = 1\n",
      "a ** b = 25\n",
      "-a = -5\n"
     ]
    }
   ],
   "source": [
    "# 연산자\n",
    "\n",
    "# a + b : 덧셈\n",
    "# a - b : 뺄셈\n",
    "# a * b : 곱셉\n",
    "# a / b : 나눗셈\n",
    "# a // b : 나눗셈의 몫\n",
    "# a % b : 나눗셈의 나머지\n",
    "# a ** b : 거듭제곱\n",
    "# -a : 부정\n",
    "\n",
    "a = 5\n",
    "b = 2\n",
    "\n",
    "print(f'a + b = {a + b}')\n",
    "print(f'a - b = {a - b}')\n",
    "print(f'a * b = {a * b}')\n",
    "print(f'a / b = {a / b}')\n",
    "print(f'a // b = {a // b}')\n",
    "print(f'a % b = {a % b}')\n",
    "print(f'a ** b = {a ** b}')\n",
    "print(f'-a = {-a}')"
   ]
  },
  {
   "cell_type": "code",
   "execution_count": 18,
   "metadata": {},
   "outputs": [
    {
     "name": "stdout",
     "output_type": "stream",
     "text": [
      "2.5\n",
      "3.0\n"
     ]
    }
   ],
   "source": [
    "print(5 / 2)\n",
    "print(6 / 2)\n",
    "# 연산자 / 는 5를 2로 나눈 결과값을 제공한다(float)"
   ]
  },
  {
   "cell_type": "code",
   "execution_count": 20,
   "metadata": {},
   "outputs": [
    {
     "name": "stdout",
     "output_type": "stream",
     "text": [
      "2\n",
      "3\n"
     ]
    }
   ],
   "source": [
    "print(5 // 2)\n",
    "print(6 // 2)\n",
    "# 연산자 // 는 5를 2로 나눈 값의 몫을 결과로 제공한다(int)"
   ]
  },
  {
   "cell_type": "code",
   "execution_count": 22,
   "metadata": {},
   "outputs": [
    {
     "name": "stdout",
     "output_type": "stream",
     "text": [
      "7\n",
      "5\n"
     ]
    }
   ],
   "source": [
    "# 연산 순서\n",
    "# PEMDAS : parentheses(괄호), exponents(거듭제곱의 지수), multiplication(곱셈), division(나눗셈), addition(덧셈), subtraction(뺄셈) 순서로 계산한다\n",
    "print(8 - 3 + 2)\n",
    "print(-3 + 4 * 2)"
   ]
  },
  {
   "cell_type": "code",
   "execution_count": 23,
   "metadata": {},
   "outputs": [
    {
     "name": "stdout",
     "output_type": "stream",
     "text": [
      "Height in meters = 26.9 ?\n"
     ]
    }
   ],
   "source": [
    "# 따라서 연산 순서가 원하는 순서대로 되지 않을 수 있다\n",
    "# 괄호를 적절히 잘 활용해야 원하는 연산 결과를 얻을 수 있다\n",
    "\n",
    "hat_height_cm = 25\n",
    "my_height_cm = 190\n",
    "# How tall am I, in meters, when wearing my hat?\n",
    "total_height_meters = hat_height_cm + my_height_cm / 100\n",
    "# PEMDAS에 따라 내 키가 100으로 먼저 나눠지고 모자의 높이와 더해진다\n",
    "print(\"Height in meters =\", total_height_meters, \"?\")"
   ]
  },
  {
   "cell_type": "code",
   "execution_count": 24,
   "metadata": {},
   "outputs": [
    {
     "name": "stdout",
     "output_type": "stream",
     "text": [
      "Height in meters = 2.15\n"
     ]
    }
   ],
   "source": [
    "total_height_meters = (hat_height_cm + my_height_cm) / 100\n",
    "# 괄호를 추가하여 모자의 높이와 내 키가 먼저 더해진뒤 100으로 나눠지게 하여 원하는 결과값을 얻을 수 있다\n",
    "print(\"Height in meters =\", total_height_meters)"
   ]
  },
  {
   "cell_type": "code",
   "execution_count": 25,
   "metadata": {},
   "outputs": [
    {
     "name": "stdout",
     "output_type": "stream",
     "text": [
      "3\n",
      "1\n"
     ]
    }
   ],
   "source": [
    "# 숫자 작업을 위한 내장 함수\n",
    "\n",
    "print(max(1,2,3))\n",
    "# max() : 최대값을 찾아서 출력하는 함수\n",
    "print(min(1,2,3))\n",
    "# min() : 최소값을 찯아서 출력하는 함수"
   ]
  },
  {
   "cell_type": "code",
   "execution_count": 26,
   "metadata": {},
   "outputs": [
    {
     "name": "stdout",
     "output_type": "stream",
     "text": [
      "32\n",
      "32\n"
     ]
    }
   ],
   "source": [
    "print(abs(32))\n",
    "print(abs(-32))\n",
    "# abs() : 주어진 수의 절대값을 출력하는 함수"
   ]
  },
  {
   "cell_type": "code",
   "execution_count": 27,
   "metadata": {},
   "outputs": [
    {
     "name": "stdout",
     "output_type": "stream",
     "text": [
      "<class 'int'>\n",
      "10.0\n",
      "3\n",
      "808\n"
     ]
    }
   ],
   "source": [
    "# 파이썬의 두 가지 주요 숫자형은 이름일 뿐만 아니라 해당 유형으로 값을 변환하는 함수로 사용될 수 있다\n",
    "\n",
    "print(float(10))\n",
    "# 정수 10을 float로 변환하여 출력\n",
    "print(int(3.33))\n",
    "# 실수 3.33을 integer로 변환하여 출력\n",
    "print(int('807') + 1)\n",
    "# 문자열 '807'을 정수로 변환한 뒤 연산하여 출력\n",
    "# 문자열도 숫자의 형태를 하고 있으면 int(), float()를 사용해 숫자형으로 바꿔줄 수 있다"
   ]
  },
  {
   "cell_type": "code",
   "execution_count": null,
   "metadata": {},
   "outputs": [],
   "source": []
  }
 ],
 "metadata": {
  "kernelspec": {
   "display_name": "Python 3",
   "language": "python",
   "name": "python3"
  },
  "language_info": {
   "codemirror_mode": {
    "name": "ipython",
    "version": 3
   },
   "file_extension": ".py",
   "mimetype": "text/x-python",
   "name": "python",
   "nbconvert_exporter": "python",
   "pygments_lexer": "ipython3",
   "version": "3.10.9"
  }
 },
 "nbformat": 4,
 "nbformat_minor": 2
}
