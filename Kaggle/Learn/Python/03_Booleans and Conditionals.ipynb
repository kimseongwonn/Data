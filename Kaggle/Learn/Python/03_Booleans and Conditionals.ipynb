{
 "cells": [
  {
   "cell_type": "markdown",
   "metadata": {},
   "source": [
    "### Booleans"
   ]
  },
  {
   "cell_type": "code",
   "execution_count": 2,
   "metadata": {},
   "outputs": [
    {
     "name": "stdout",
     "output_type": "stream",
     "text": [
      "True\n",
      "<class 'bool'>\n"
     ]
    }
   ],
   "source": [
    "x = True\n",
    "print(x)\n",
    "print(type(x))\n",
    "\n",
    "# bool : Booleans의 약자로 참, 거짓을 판단하는 데이터 타입"
   ]
  },
  {
   "cell_type": "markdown",
   "metadata": {},
   "source": [
    "### 비교 연산"
   ]
  },
  {
   "cell_type": "code",
   "execution_count": 3,
   "metadata": {},
   "outputs": [],
   "source": [
    "# a == b : a와 b가 같다\n",
    "# a < b : a가 b보다 작다\n",
    "# a <= b : a가 b보다 작거나 같다\n",
    "# a > b : a가 b보다 크다\n",
    "# a >= b : a가 b보다 크거나 같다\n",
    "# a != b : a와 b가 같지 않다"
   ]
  },
  {
   "cell_type": "code",
   "execution_count": 4,
   "metadata": {},
   "outputs": [
    {
     "name": "stdout",
     "output_type": "stream",
     "text": [
      "Can a 19-year-old run for president? False\n",
      "Can a 45-year-old run for president? True\n"
     ]
    }
   ],
   "source": [
    "def can_run_for_president(age):\n",
    "    \"\"\"Can someone of the given age run for president in the US?\"\"\"\n",
    "    # The US Constitution says you must be at least 35 years old\n",
    "    return age >= 35\n",
    "# 미국 대통령이 되기 위해서는 35살보다 많아야 한다\n",
    "\n",
    "print(\"Can a 19-year-old run for president?\", can_run_for_president(19))\n",
    "print(\"Can a 45-year-old run for president?\", can_run_for_president(45))"
   ]
  },
  {
   "cell_type": "code",
   "execution_count": 5,
   "metadata": {},
   "outputs": [
    {
     "data": {
      "text/plain": [
       "True"
      ]
     },
     "execution_count": 5,
     "metadata": {},
     "output_type": "execute_result"
    }
   ],
   "source": [
    "3.0 == 3"
   ]
  },
  {
   "cell_type": "code",
   "execution_count": 6,
   "metadata": {},
   "outputs": [
    {
     "data": {
      "text/plain": [
       "False"
      ]
     },
     "execution_count": 6,
     "metadata": {},
     "output_type": "execute_result"
    }
   ],
   "source": [
    "'3' == 3"
   ]
  },
  {
   "cell_type": "code",
   "execution_count": 7,
   "metadata": {},
   "outputs": [
    {
     "name": "stdout",
     "output_type": "stream",
     "text": [
      "Is 100 odd? False\n",
      "Is -1 odd? True\n"
     ]
    }
   ],
   "source": [
    "def is_odd(n):\n",
    "    return (n % 2) == 1\n",
    "    # 2로 나눈 나머지가 1인 경우 홀수이므로 n이 홀수 일때 True가 return된다\n",
    "    # 값이 같은지 확인할 때 '=' 가 아닌 '=='를 쓴다\n",
    "# 숫자가 홀수 인지 판별하는 함수\n",
    "\n",
    "print(\"Is 100 odd?\", is_odd(100))\n",
    "print(\"Is -1 odd?\", is_odd(-1))"
   ]
  },
  {
   "cell_type": "markdown",
   "metadata": {},
   "source": [
    "### Bool의 결합"
   ]
  },
  {
   "cell_type": "code",
   "execution_count": 8,
   "metadata": {},
   "outputs": [
    {
     "name": "stdout",
     "output_type": "stream",
     "text": [
      "False\n",
      "False\n",
      "True\n"
     ]
    }
   ],
   "source": [
    "# and, or, not\n",
    "\n",
    "def can_run_for_president(age, is_natural_born_citizen):\n",
    "    \"\"\"Can someone of the given age and citizenship status run for president in the US?\"\"\"\n",
    "    # The US Constitution says you must be a natural born citizen *and* at least 35 years old\n",
    "    return is_natural_born_citizen and (age >= 35)\n",
    "# is_natural_born_citizen 인수가 True이면서 age 인수도 35세가 넘어야 True\n",
    "# and는 두 가지 모두 True여야 True가 된다\n",
    "\n",
    "print(can_run_for_president(19, True))\n",
    "# age가 35세 이하이므로 False and is_natural_born_citizen는 True >> False\n",
    "print(can_run_for_president(55, False))\n",
    "# age가 35세 이상이므로 True and is_natural_born_citizen는 False >> False\n",
    "print(can_run_for_president(55, True))\n",
    "# age가 35세 이상이므로 True and is_natural_born_citizen는 True >> True"
   ]
  },
  {
   "cell_type": "code",
   "execution_count": 9,
   "metadata": {},
   "outputs": [
    {
     "data": {
      "text/plain": [
       "True"
      ]
     },
     "execution_count": 9,
     "metadata": {},
     "output_type": "execute_result"
    }
   ],
   "source": [
    "True or True and False\n",
    "# and의 경우 or보다 먼저 평가된다 따라서 True and False가 먼저 평가되고 나온 결과값과 True or 나온결과값이 평가된다\n",
    "# not -> and -> or 순서대로 평가\n",
    "\n",
    "# or의 경우 하나라도 True이면 True이므로 결과는 True"
   ]
  },
  {
   "cell_type": "code",
   "execution_count": 11,
   "metadata": {},
   "outputs": [],
   "source": [
    "# 더욱 정교한 평가를 위해서 숫자 연산자와 마찬가지로 괄호를 활용해주면 된다\n",
    "\n",
    "# prepared_for_weather = have_umbrella or rain_level < 5 and have_hood or not rain_level > 0 and is_workday\n",
    "# 괄호가 없으면 코드 가독성도 떨어질 뿐만 아니라 원하는 결과를 얻지 못할 수 도 있다\n",
    "\n",
    "# prepared_for_weather = have_umbrella or ((rain_level < 5) and have_hood) or (not (rain_level > 0 and is_workday))\n",
    "# 괄호를 추가하여 평가의 순서를 명확하게 하는 것이 좋다"
   ]
  },
  {
   "cell_type": "markdown",
   "metadata": {},
   "source": [
    "### Bool과 조건문"
   ]
  },
  {
   "cell_type": "code",
   "execution_count": 12,
   "metadata": {},
   "outputs": [
    {
     "name": "stdout",
     "output_type": "stream",
     "text": [
      "0 is zero\n",
      "-15 is negative\n"
     ]
    }
   ],
   "source": [
    "# bool 형태는 조건문 (if!elif~else)과 함께 사용하면 유용하다\n",
    "\n",
    "def inspect(x):\n",
    "    if x == 0:\n",
    "        print(x, \"is zero\")\n",
    "    elif x > 0:\n",
    "        print(x, \"is positive\")\n",
    "    elif x < 0:\n",
    "        print(x, \"is negative\")\n",
    "    else:\n",
    "        print(x, \"is unlike anything I've ever seen...\")\n",
    "\n",
    "inspect(0)\n",
    "inspect(-15)\n",
    "\n",
    "# if : 만약 조건이 참이면 if 코드 블럭을 실행시켜라\n",
    "# else : 만약 그렇지 않다면 else 코드 블럭을 실행시켜라\n",
    "# elif : 조건의 분기점이 여러개일 경우 계속 if, else를 사용할 수 없으니 else와 if를 합친 elif를 사용하여 이어준다\n",
    "\n",
    "# 조건절의 결과가 전부 bool의 형태로 나오게 된다 (True 또는 False)\n",
    "# 조건문과 bool을 함께 쓰면 가장 유용하다\n"
   ]
  },
  {
   "cell_type": "code",
   "execution_count": 13,
   "metadata": {},
   "outputs": [
    {
     "name": "stdout",
     "output_type": "stream",
     "text": [
      "Only printed when x is positive; x = 1\n",
      "Also only printed when x is positive; x = 1\n",
      "Always printed, regardless of x's value; x = 1\n",
      "Always printed, regardless of x's value; x = 0\n"
     ]
    }
   ],
   "source": [
    "def f(x):\n",
    "    if x > 0:\n",
    "        print(\"Only printed when x is positive; x =\", x)\n",
    "        print(\"Also only printed when x is positive; x =\", x)\n",
    "    print(\"Always printed, regardless of x's value; x =\", x)\n",
    "\n",
    "f(1)\n",
    "# 1이 0보다 크므로 print() 함수가 3개 다 호출됨\n",
    "f(0)\n",
    "# 0이 0보다 크지 않으므로 조건문(if)안의 print()함수 2개는 실행되지 않고 밖의 print()함수 하나만 호출됨"
   ]
  },
  {
   "cell_type": "markdown",
   "metadata": {},
   "source": [
    "### bool()"
   ]
  },
  {
   "cell_type": "code",
   "execution_count": 15,
   "metadata": {},
   "outputs": [
    {
     "name": "stdout",
     "output_type": "stream",
     "text": [
      "True\n",
      "False\n",
      "True\n",
      "False\n"
     ]
    }
   ],
   "source": [
    "print(bool(1)) # 0을 제외한 모든 수는 참으로 가정한다\n",
    "print(bool(0))\n",
    "print(bool(\"asf\")) # 비어있는 문자열('')을 제외한 모든 문자열은 참으로 가정한다\n",
    "print(bool(\"\"))\n",
    "# 문자열 뿐만 아니라 일반적으로 비어있는 데이터는 거짓으로 가정한다 (비어있는 리스트, 비어있는 튜플 등등)"
   ]
  },
  {
   "cell_type": "code",
   "execution_count": 16,
   "metadata": {},
   "outputs": [
    {
     "name": "stdout",
     "output_type": "stream",
     "text": [
      "spam\n"
     ]
    }
   ],
   "source": [
    "# 따라서 조건문의 조건절에 그냥 숫자나 문자를 넣어도 bool 형태로 활용할 수 있다\n",
    "\n",
    "if 0: # 0은 거짓\n",
    "    print(0)\n",
    "elif \"spam\": # 비어있지 않은 문자열은 참\n",
    "    print(\"spam\")"
   ]
  },
  {
   "cell_type": "code",
   "execution_count": null,
   "metadata": {},
   "outputs": [],
   "source": []
  }
 ],
 "metadata": {
  "kernelspec": {
   "display_name": "Python 3",
   "language": "python",
   "name": "python3"
  },
  "language_info": {
   "codemirror_mode": {
    "name": "ipython",
    "version": 3
   },
   "file_extension": ".py",
   "mimetype": "text/x-python",
   "name": "python",
   "nbconvert_exporter": "python",
   "pygments_lexer": "ipython3",
   "version": "3.10.9"
  }
 },
 "nbformat": 4,
 "nbformat_minor": 2
}
