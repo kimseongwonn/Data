{
 "cells": [
  {
   "cell_type": "markdown",
   "metadata": {},
   "source": [
    "### 라이브러리(Library)\n",
    "- 특정 기능을 수행하는 코드의 모음\n",
    "- 자주 사용되는 기능 코드를 모아서 라이브러리로 만들어 놓고 재사용하므로 개발 시간을 절약하고 코드의 품질을 높일 수 있다\n",
    "- 종류\n",
    "    - 표준 라이브러리\n",
    "        - > 파이썬에서 기본적으로 내장되어 제공하는 라이브러리로 별도의 설치가 필요없이 바로 사용가능 (math, datetime, os, sys, re 등등)\n",
    "    - 외부 라이브러리(서드 파티 라이브러리)\n",
    "        - > 파이썬에 내장되어 있지 않지만 제 3자가 개발하여 배포하는 라이브러리로 별도의 설치를 통해 사용가능 (numpy, pandas, matplotlib, scikit-learn 등등)\n",
    "    - 커스텀 라이브러리\n",
    "        - > 사용자가 특정 용도에 맞게 작성한 라이브러리\n",
    "        - 특정 프로젝트나 기능을 위해 맞춤 제작\n",
    "        - 유지 보수 작성자가 직접해야함"
   ]
  },
  {
   "cell_type": "markdown",
   "metadata": {},
   "source": [
    "### import"
   ]
  },
  {
   "cell_type": "code",
   "execution_count": 1,
   "metadata": {},
   "outputs": [
    {
     "name": "stdout",
     "output_type": "stream",
     "text": [
      "It's math! It has type <class 'module'>\n"
     ]
    }
   ],
   "source": [
    "# 어떤 라이브러리든 파이썬에 불러오려면 import를 사용해야 한다\n",
    "\n",
    "import math\n",
    "print(\"It's math! It has type {}\".format(type(math)))"
   ]
  },
  {
   "cell_type": "code",
   "execution_count": 4,
   "metadata": {},
   "outputs": [
    {
     "name": "stdout",
     "output_type": "stream",
     "text": [
      "['__doc__', '__loader__', '__name__', '__package__', '__spec__', 'acos', 'acosh', 'asin', 'asinh', 'atan', 'atan2', 'atanh', 'ceil', 'comb', 'copysign', 'cos', 'cosh', 'degrees', 'dist', 'e', 'erf', 'erfc', 'exp', 'expm1', 'fabs', 'factorial', 'floor', 'fmod', 'frexp', 'fsum', 'gamma', 'gcd', 'hypot', 'inf', 'isclose', 'isfinite', 'isinf', 'isnan', 'isqrt', 'lcm', 'ldexp', 'lgamma', 'log', 'log10', 'log1p', 'log2', 'modf', 'nan', 'nextafter', 'perm', 'pi', 'pow', 'prod', 'radians', 'remainder', 'sin', 'sinh', 'sqrt', 'tan', 'tanh', 'tau', 'trunc', 'ulp']\n"
     ]
    }
   ],
   "source": [
    "# math 모듈\n",
    "# 모듈(module) : 모듈은 다른 사람이 정의한 변수의 모음\n",
    "# 내장함수 dir()을 사용하여 해당 모듈의 모든 이름을 볼 수 있다\n",
    "\n",
    "print(dir(math))"
   ]
  },
  {
   "cell_type": "code",
   "execution_count": 5,
   "metadata": {},
   "outputs": [
    {
     "name": "stdout",
     "output_type": "stream",
     "text": [
      "pi to 4 significant digits = 3.142\n"
     ]
    }
   ],
   "source": [
    "# 우리는 '.' 을 사용하여 다음과 같은 변수에 접근할 수 있다\n",
    "# math.pi >> '.'을 사용해 모듈의 'pi' 변수에 접근함\n",
    "# 'pi' 변수는 원주율을 나타내는 변수로 끝없이 소수점이 이어지기 때문에 포매팅 {:.4}로 소수점 3번째 자리까지 나오게 했다\n",
    "\n",
    "print(\"pi to 4 significant digits = {:.4}\".format(math.pi))"
   ]
  },
  {
   "cell_type": "code",
   "execution_count": 6,
   "metadata": {},
   "outputs": [
    {
     "data": {
      "text/plain": [
       "5.0"
      ]
     },
     "execution_count": 6,
     "metadata": {},
     "output_type": "execute_result"
    }
   ],
   "source": [
    "# 변수외에도 모듈에 들어있는 함수에도 접근할 수 있다\n",
    "\n",
    "# math 모듈에 내장된 log()함수에 접근\n",
    "math.log(32, 2)"
   ]
  },
  {
   "cell_type": "code",
   "execution_count": 7,
   "metadata": {},
   "outputs": [
    {
     "name": "stdout",
     "output_type": "stream",
     "text": [
      "Help on built-in function log in module math:\n",
      "\n",
      "log(...)\n",
      "    log(x, [base=math.e])\n",
      "    Return the logarithm of x to the given base.\n",
      "    \n",
      "    If the base not specified, returns the natural logarithm (base e) of x.\n",
      "\n"
     ]
    }
   ],
   "source": [
    "# 생소한 모듈의 함수가 어떤식으로 기능하는지 알고자 하면 help()를 사용하면 된다\n",
    "help(math.log)\n",
    "\n",
    "# log(x, [base=math.e])\n",
    "# 뒤에 수를 밑으로 가지는 로그에 앞의 수를 진수로 가지는 값을 호출하는 함수\n"
   ]
  },
  {
   "cell_type": "code",
   "execution_count": 8,
   "metadata": {},
   "outputs": [],
   "source": [
    "# help(math) 처럼 모듈에 대한 전체 설명을 한번에 볼 수도 있다 (호출값 길어서 생략)"
   ]
  },
  {
   "cell_type": "markdown",
   "metadata": {},
   "source": [
    "### 다른 import 구문"
   ]
  },
  {
   "cell_type": "markdown",
   "metadata": {},
   "source": [
    "as"
   ]
  },
  {
   "cell_type": "code",
   "execution_count": 9,
   "metadata": {},
   "outputs": [
    {
     "data": {
      "text/plain": [
       "3.141592653589793"
      ]
     },
     "execution_count": 9,
     "metadata": {},
     "output_type": "execute_result"
    }
   ],
   "source": [
    "# 가져오는 모듈 또는 라이브러리 이름을 짧은 별명으로 나타낼 수 있게 해준다\n",
    "# 라이브러리의 이름이 너무 길면 매번 코드 작성 시 불편하므로 알아볼 수 있는 짧은 별명으로 지칭하기 위해 사용한다\n",
    "\n",
    "import math as mt\n",
    "mt.pi"
   ]
  },
  {
   "cell_type": "code",
   "execution_count": 10,
   "metadata": {},
   "outputs": [],
   "source": [
    "# as 사용 예시\n",
    "import pandas as pd\n",
    "import numpy as np\n",
    "import matplotlib.pyplot as plt"
   ]
  },
  {
   "cell_type": "code",
   "execution_count": 11,
   "metadata": {},
   "outputs": [
    {
     "name": "stdout",
     "output_type": "stream",
     "text": [
      "3.141592653589793 5.0\n"
     ]
    }
   ],
   "source": [
    "# '*' : 모듈에 있는 변수에 직접 접근할 수 있게 해주는 구문\n",
    "from math import *\n",
    "\n",
    "# 원래라면 math.pi, math.log() 이렇게 모듈명 뒤에 접근자 '.'를 사용하여 접근해야했는데\n",
    "# '*' 를 import 하므로 모듈 이름 없이 변수명, 함수명 만드로 직접 접근가능하게 된다\n",
    "print(pi, log(32,2))"
   ]
  },
  {
   "cell_type": "code",
   "execution_count": 13,
   "metadata": {},
   "outputs": [
    {
     "ename": "TypeError",
     "evalue": "return arrays must be of ArrayType",
     "output_type": "error",
     "traceback": [
      "\u001b[1;31m---------------------------------------------------------------------------\u001b[0m",
      "\u001b[1;31mTypeError\u001b[0m                                 Traceback (most recent call last)",
      "Cell \u001b[1;32mIn[13], line 6\u001b[0m\n\u001b[0;32m      3\u001b[0m \u001b[38;5;28;01mfrom\u001b[39;00m \u001b[38;5;21;01mmath\u001b[39;00m \u001b[38;5;28;01mimport\u001b[39;00m \u001b[38;5;241m*\u001b[39m\n\u001b[0;32m      4\u001b[0m \u001b[38;5;28;01mfrom\u001b[39;00m \u001b[38;5;21;01mnumpy\u001b[39;00m \u001b[38;5;28;01mimport\u001b[39;00m \u001b[38;5;241m*\u001b[39m\n\u001b[1;32m----> 6\u001b[0m \u001b[38;5;28mprint\u001b[39m(pi, \u001b[43mlog\u001b[49m\u001b[43m(\u001b[49m\u001b[38;5;241;43m32\u001b[39;49m\u001b[43m,\u001b[49m\u001b[43m \u001b[49m\u001b[38;5;241;43m2\u001b[39;49m\u001b[43m)\u001b[49m)\n\u001b[0;32m      7\u001b[0m \u001b[38;5;66;03m# TypeError: return arrays must be of ArrayType\u001b[39;00m\n\u001b[0;32m      8\u001b[0m \u001b[38;5;66;03m# 에러 발생\u001b[39;00m\n\u001b[0;32m      9\u001b[0m \u001b[38;5;66;03m# log()가 math에도 있지만 같은 이름의 log()가 numpy에도 존재\u001b[39;00m\n\u001b[0;32m     10\u001b[0m \u001b[38;5;66;03m# 따라서 후에 쓰인 numpy의 log()가 호출되었는데 numpy의 log() 함수는 기능이 math의 log()와 달라서 인수가 맞지 않아 에러가 발생\u001b[39;00m\n\u001b[0;32m     11\u001b[0m \n\u001b[0;32m     12\u001b[0m \u001b[38;5;66;03m# 즉, * 는 실제 코드에서 거의 쓰이지 않는다\u001b[39;00m\n",
      "\u001b[1;31mTypeError\u001b[0m: return arrays must be of ArrayType"
     ]
    }
   ],
   "source": [
    "# 그러나 '*' 는 모호함을 가져올 수 있다\n",
    "# 예시\n",
    "from math import *\n",
    "from numpy import *\n",
    "\n",
    "print(pi, log(32, 2))\n",
    "# TypeError: return arrays must be of ArrayType\n",
    "# 에러 발생\n",
    "# log()가 math에도 있지만 같은 이름의 log()가 numpy에도 존재\n",
    "# 따라서 후에 쓰인 numpy의 log()가 호출되었는데 numpy의 log() 함수는 기능이 math의 log()와 달라서 인수가 맞지 않아 에러가 발생\n",
    "\n",
    "# 즉, * 는 실제 코드에서 거의 쓰이지 않는다"
   ]
  },
  {
   "cell_type": "code",
   "execution_count": 15,
   "metadata": {},
   "outputs": [
    {
     "name": "stdout",
     "output_type": "stream",
     "text": [
      "3.141592653589793 5.0\n"
     ]
    }
   ],
   "source": [
    "# 이러한 문제점을 적절히 해결하기 위해 각 모듈에서 필요한 특정 항목만 가져온다\n",
    "\n",
    "from math import pi, log\n",
    "from numpy import asarray\n",
    "\n",
    "print(pi, log(32, 2))\n",
    "# math의 log()만 불러왔기 때문에 출동없이 잘 출력된다"
   ]
  },
  {
   "cell_type": "markdown",
   "metadata": {},
   "source": [
    "### 서브 모듈(submodules)"
   ]
  },
  {
   "cell_type": "code",
   "execution_count": 16,
   "metadata": {},
   "outputs": [
    {
     "name": "stdout",
     "output_type": "stream",
     "text": [
      "numpy.random is a <class 'module'>\n",
      "it contains names such as... ['set_bit_generator', 'set_state', 'shuffle', 'standard_cauchy', 'standard_exponential', 'standard_gamma', 'standard_normal', 'standard_t', 'test', 'triangular', 'uniform', 'vonmises', 'wald', 'weibull', 'zipf']\n"
     ]
    }
   ],
   "source": [
    "# 모듈은 다른 모듈을 참조하는 변수를 가질 수 있다\n",
    "\n",
    "import numpy\n",
    "print(\"numpy.random is a\", type(numpy.random))\n",
    "print(\"it contains names such as...\",\n",
    "      dir(numpy.random)[-15:]\n",
    "     )\n",
    "\n",
    "# 위와 같이 numpy 모듈에서 '.'을 사용하여 random 이라는 모듈을 가져올 수 있다\n",
    "# 즉, 모듈은 변수, 함수 외에도 모듈을 내장할 수 있다 (모듈 안에 모듈 = 서브 모듈)"
   ]
  },
  {
   "cell_type": "code",
   "execution_count": 18,
   "metadata": {},
   "outputs": [
    {
     "data": {
      "text/plain": [
       "array([3, 1, 5, 1, 2, 2, 1, 2, 5, 5])"
      ]
     },
     "execution_count": 18,
     "metadata": {},
     "output_type": "execute_result"
    }
   ],
   "source": [
    "# 모듈의 서브모듈을 불러와서도 추가로 변수나 함수 호출도 얼마든지 가능하다\n",
    "\n",
    "# Roll 10 dice\n",
    "rolls = numpy.random.randint(low=1, high=6, size=10) # 최소가 1 최대가 6인(마치 주사위) 숫자 중 사이즈(길이)가 10이 되도록 랜덤하게 값을 뽑아라\n",
    "rolls"
   ]
  },
  {
   "cell_type": "markdown",
   "metadata": {},
   "source": [
    "### 파이썬에서 생소한 것을 이해하기 위한 3가지 유용한 도구"
   ]
  },
  {
   "cell_type": "markdown",
   "metadata": {},
   "source": [
    "type()"
   ]
  },
  {
   "cell_type": "code",
   "execution_count": 19,
   "metadata": {},
   "outputs": [
    {
     "data": {
      "text/plain": [
       "numpy.ndarray"
      ]
     },
     "execution_count": 19,
     "metadata": {},
     "output_type": "execute_result"
    }
   ],
   "source": [
    "# 이게 뭔가요? (이건 어떤 타입인가요?)\n",
    "type(rolls)"
   ]
  },
  {
   "cell_type": "markdown",
   "metadata": {},
   "source": [
    "dir()"
   ]
  },
  {
   "cell_type": "code",
   "execution_count": 20,
   "metadata": {},
   "outputs": [
    {
     "name": "stdout",
     "output_type": "stream",
     "text": [
      "['T', '__abs__', '__add__', '__and__', '__array__', '__array_finalize__', '__array_function__', '__array_interface__', '__array_prepare__', '__array_priority__', '__array_struct__', '__array_ufunc__', '__array_wrap__', '__bool__', '__class__', '__class_getitem__', '__complex__', '__contains__', '__copy__', '__deepcopy__', '__delattr__', '__delitem__', '__dir__', '__divmod__', '__dlpack__', '__dlpack_device__', '__doc__', '__eq__', '__float__', '__floordiv__', '__format__', '__ge__', '__getattribute__', '__getitem__', '__gt__', '__hash__', '__iadd__', '__iand__', '__ifloordiv__', '__ilshift__', '__imatmul__', '__imod__', '__imul__', '__index__', '__init__', '__init_subclass__', '__int__', '__invert__', '__ior__', '__ipow__', '__irshift__', '__isub__', '__iter__', '__itruediv__', '__ixor__', '__le__', '__len__', '__lshift__', '__lt__', '__matmul__', '__mod__', '__mul__', '__ne__', '__neg__', '__new__', '__or__', '__pos__', '__pow__', '__radd__', '__rand__', '__rdivmod__', '__reduce__', '__reduce_ex__', '__repr__', '__rfloordiv__', '__rlshift__', '__rmatmul__', '__rmod__', '__rmul__', '__ror__', '__rpow__', '__rrshift__', '__rshift__', '__rsub__', '__rtruediv__', '__rxor__', '__setattr__', '__setitem__', '__setstate__', '__sizeof__', '__str__', '__sub__', '__subclasshook__', '__truediv__', '__xor__', 'all', 'any', 'argmax', 'argmin', 'argpartition', 'argsort', 'astype', 'base', 'byteswap', 'choose', 'clip', 'compress', 'conj', 'conjugate', 'copy', 'ctypes', 'cumprod', 'cumsum', 'data', 'diagonal', 'dot', 'dtype', 'dump', 'dumps', 'fill', 'flags', 'flat', 'flatten', 'getfield', 'imag', 'item', 'itemset', 'itemsize', 'max', 'mean', 'min', 'nbytes', 'ndim', 'newbyteorder', 'nonzero', 'partition', 'prod', 'ptp', 'put', 'ravel', 'real', 'repeat', 'reshape', 'resize', 'round', 'searchsorted', 'setfield', 'setflags', 'shape', 'size', 'sort', 'squeeze', 'std', 'strides', 'sum', 'swapaxes', 'take', 'tobytes', 'tofile', 'tolist', 'tostring', 'trace', 'transpose', 'var', 'view']\n"
     ]
    }
   ],
   "source": [
    "# 이걸로 뭘 할 수 있나요? (이것에 어떤 것을 적용할 수 있나요? - 함수 등등)\n",
    "print(dir(rolls))"
   ]
  },
  {
   "cell_type": "code",
   "execution_count": 21,
   "metadata": {},
   "outputs": [
    {
     "data": {
      "text/plain": [
       "2.7"
      ]
     },
     "execution_count": 21,
     "metadata": {},
     "output_type": "execute_result"
    }
   ],
   "source": [
    "# dir(rolls) 결과에 mean이 존재한다 -> mean() 사용가능\n",
    "rolls.mean()"
   ]
  },
  {
   "cell_type": "code",
   "execution_count": 22,
   "metadata": {},
   "outputs": [
    {
     "data": {
      "text/plain": [
       "[3, 1, 5, 1, 2, 2, 1, 2, 5, 5]"
      ]
     },
     "execution_count": 22,
     "metadata": {},
     "output_type": "execute_result"
    }
   ],
   "source": [
    "# dir(rolls) 결과에 tolist가 존재한다 -> tolist() 사용가능\n",
    "rolls.tolist()"
   ]
  },
  {
   "cell_type": "markdown",
   "metadata": {},
   "source": [
    "help()"
   ]
  },
  {
   "cell_type": "code",
   "execution_count": 23,
   "metadata": {},
   "outputs": [
    {
     "name": "stdout",
     "output_type": "stream",
     "text": [
      "Help on built-in function ravel:\n",
      "\n",
      "ravel(...) method of numpy.ndarray instance\n",
      "    a.ravel([order])\n",
      "    \n",
      "    Return a flattened array.\n",
      "    \n",
      "    Refer to `numpy.ravel` for full documentation.\n",
      "    \n",
      "    See Also\n",
      "    --------\n",
      "    numpy.ravel : equivalent function\n",
      "    \n",
      "    ndarray.flat : a flat iterator on the array.\n",
      "\n"
     ]
    }
   ],
   "source": [
    "# 하나씩 더 자세히 알려주세요\n",
    "# dir(rolls) 결과에 ravel이 존재는 하는데 ravel이 어떻게 적용되는 거지?\n",
    "\n",
    "help(rolls.ravel)"
   ]
  },
  {
   "cell_type": "markdown",
   "metadata": {},
   "source": [
    "### 연산자 오버로딩(Operator overloading)"
   ]
  },
  {
   "cell_type": "markdown",
   "metadata": {},
   "source": [
    "- 연산자 오버로딩 : 사용자 정의 객체(모듈, 라이브러리 등등)에 대해 기존의 파이썬 연산자(+,-,*,/ 등등)의 동작을 재정의할 수 있게 해주는 기능\n",
    "- 예시) 파이썬 기존 환경에서 리스트(배열의 일종)와 수치형 데이터의 계산이 불가능하지만 numpy 모듈에서는 배열(array)과 수치형 데이터의 연산이 가능하다"
   ]
  },
  {
   "cell_type": "code",
   "execution_count": 24,
   "metadata": {},
   "outputs": [
    {
     "ename": "TypeError",
     "evalue": "can only concatenate list (not \"int\") to list",
     "output_type": "error",
     "traceback": [
      "\u001b[1;31m---------------------------------------------------------------------------\u001b[0m",
      "\u001b[1;31mTypeError\u001b[0m                                 Traceback (most recent call last)",
      "Cell \u001b[1;32mIn[24], line 4\u001b[0m\n\u001b[0;32m      1\u001b[0m \u001b[38;5;66;03m# 에러 발생\u001b[39;00m\n\u001b[0;32m      2\u001b[0m \u001b[38;5;66;03m# 파이썬의 경우 리스트와 수치형 데이터의 연산이 불가능\u001b[39;00m\n\u001b[1;32m----> 4\u001b[0m \u001b[43m[\u001b[49m\u001b[38;5;241;43m3\u001b[39;49m\u001b[43m,\u001b[49m\u001b[43m \u001b[49m\u001b[38;5;241;43m4\u001b[39;49m\u001b[43m,\u001b[49m\u001b[43m \u001b[49m\u001b[38;5;241;43m1\u001b[39;49m\u001b[43m,\u001b[49m\u001b[43m \u001b[49m\u001b[38;5;241;43m2\u001b[39;49m\u001b[43m,\u001b[49m\u001b[43m \u001b[49m\u001b[38;5;241;43m2\u001b[39;49m\u001b[43m,\u001b[49m\u001b[43m \u001b[49m\u001b[38;5;241;43m1\u001b[39;49m\u001b[43m]\u001b[49m\u001b[43m \u001b[49m\u001b[38;5;241;43m+\u001b[39;49m\u001b[43m \u001b[49m\u001b[38;5;241;43m10\u001b[39;49m\n",
      "\u001b[1;31mTypeError\u001b[0m: can only concatenate list (not \"int\") to list"
     ]
    }
   ],
   "source": [
    "# 에러 발생\n",
    "# 파이썬의 경우 리스트와 수치형 데이터의 연산이 불가능\n",
    "\n",
    "[3, 4, 1, 2, 2, 1] + 10"
   ]
  },
  {
   "cell_type": "code",
   "execution_count": 25,
   "metadata": {},
   "outputs": [
    {
     "data": {
      "text/plain": [
       "array([13, 11, 15, 11, 12, 12, 11, 12, 15, 15])"
      ]
     },
     "execution_count": 25,
     "metadata": {},
     "output_type": "execute_result"
    }
   ],
   "source": [
    "# 그러나 numpy를 사용한 array 데이터는 가능하다\n",
    "# +10이 각 배열의 요소에 각각 적용되어 나타난다\n",
    "\n",
    "rolls + 10"
   ]
  },
  {
   "cell_type": "markdown",
   "metadata": {},
   "source": [
    "즉, 위의 예시로 알 수 있는 연산자 오버로딩의 예시는 다음과 같다\n",
    "- numpy 환경에서 파이썬 연산자 '+'의 기능이 재정의됨 >> 각각 더해줄 수 있게 재정의"
   ]
  },
  {
   "cell_type": "code",
   "execution_count": 26,
   "metadata": {},
   "outputs": [
    {
     "data": {
      "text/plain": [
       "array([ True,  True, False,  True,  True,  True,  True,  True, False,\n",
       "       False])"
      ]
     },
     "execution_count": 26,
     "metadata": {},
     "output_type": "execute_result"
    }
   ],
   "source": [
    "# 비교 연산자도 가능\n",
    "rolls <= 3"
   ]
  },
  {
   "cell_type": "code",
   "execution_count": 34,
   "metadata": {},
   "outputs": [
    {
     "name": "stdout",
     "output_type": "stream",
     "text": [
      "xlist = [[1, 2, 3], [2, 4, 6]]\n",
      "x =\n",
      "[[1 2 3]\n",
      " [2 4 6]]\n"
     ]
    }
   ],
   "source": [
    "# 이중 리스트\n",
    "xlist = [[1,2,3],[2,4,6],]\n",
    "\n",
    "# numpy를 사용하여 이중 리스트(xlist)를 2차원의 배열 형태로 바꿔줄 수 있다\n",
    "# 차이점 xlist는 단순히 리스트 안에 리스트들이 ','로 연결되어 있다(행과 열의 개념 존재x)면 2차원 배열은 ',' 없이 행렬의 형태로 존재한다\n",
    "x = numpy.asarray(xlist)\n",
    "print(\"xlist = {}\\nx =\\n{}\".format(xlist, x))"
   ]
  },
  {
   "cell_type": "code",
   "execution_count": 35,
   "metadata": {},
   "outputs": [
    {
     "data": {
      "text/plain": [
       "6"
      ]
     },
     "execution_count": 35,
     "metadata": {},
     "output_type": "execute_result"
    }
   ],
   "source": [
    "# numpy array의 2번째 열에 마지막 요소\n",
    "x[1,-1]"
   ]
  },
  {
   "cell_type": "code",
   "execution_count": 36,
   "metadata": {},
   "outputs": [
    {
     "ename": "TypeError",
     "evalue": "list indices must be integers or slices, not tuple",
     "output_type": "error",
     "traceback": [
      "\u001b[1;31m---------------------------------------------------------------------------\u001b[0m",
      "\u001b[1;31mTypeError\u001b[0m                                 Traceback (most recent call last)",
      "Cell \u001b[1;32mIn[36], line 2\u001b[0m\n\u001b[0;32m      1\u001b[0m \u001b[38;5;66;03m# 이건 오류가 발생한다\u001b[39;00m\n\u001b[1;32m----> 2\u001b[0m \u001b[43mxlist\u001b[49m\u001b[43m[\u001b[49m\u001b[38;5;241;43m1\u001b[39;49m\u001b[43m,\u001b[49m\u001b[38;5;241;43m-\u001b[39;49m\u001b[38;5;241;43m1\u001b[39;49m\u001b[43m]\u001b[49m\n",
      "\u001b[1;31mTypeError\u001b[0m: list indices must be integers or slices, not tuple"
     ]
    }
   ],
   "source": [
    "# 이건 오류가 발생한다 >> 리스트에 들어가는 인덱스는 정수나 슬라이싱 기호(:) 여야하는데\n",
    "# 1,-1과 같은 튜플 형태가 들어갔으니 에러 발생\n",
    "xlist[1,-1]"
   ]
  },
  {
   "cell_type": "markdown",
   "metadata": {},
   "source": [
    "1+1이 2가 되지 않는 경우"
   ]
  },
  {
   "cell_type": "code",
   "execution_count": 40,
   "metadata": {},
   "outputs": [],
   "source": [
    "# %pip install tensorflow"
   ]
  },
  {
   "cell_type": "code",
   "execution_count": 39,
   "metadata": {},
   "outputs": [
    {
     "data": {
      "text/plain": [
       "<tf.Tensor: shape=(), dtype=int32, numpy=2>"
      ]
     },
     "execution_count": 39,
     "metadata": {},
     "output_type": "execute_result"
    }
   ],
   "source": [
    "import tensorflow as tf\n",
    "# Create two constants, each with value 1\n",
    "a = tf.constant(1)\n",
    "b = tf.constant(1)\n",
    "# Add them together to get...\n",
    "a + b\n",
    "\n",
    "# a+b가 2가 아니라 tensorflow에서 사용하는 값이 2인 텐서가 생성된다\n",
    "# 즉, 단순히 수를 더하는 것처럼 보여도 각기 다른 모듈 환경에서는 전혀 다른 예측 값이 나올 수 있다"
   ]
  },
  {
   "cell_type": "code",
   "execution_count": 43,
   "metadata": {},
   "outputs": [
    {
     "name": "stdout",
     "output_type": "stream",
     "text": [
      "True\n",
      "True\n"
     ]
    }
   ],
   "source": [
    "# help() 또는 dir() 을 사용하면 나오는 결과물에서 '__add__'와 같이 변수 이름 양옆에 두개의 밑줄\n",
    "# 연산자 오버로딩과 직접적으로 관련이 있다\n",
    "\n",
    "# 연산자가 사용자 정의 객체에서 어떻게 동작하는지 정의하고 싶을때 사용\n",
    "\n",
    "# 예시\n",
    "x = 2\n",
    "\n",
    "print(x in [1,2,3])\n",
    "print([1, 2, 3].__contains__(x))\n",
    "# __contains__는 연산자 in과 정확히 똑같이 동작한다\n",
    "# 즉, in 연산자의 동작을 정의한 것이 __contains__ 이다"
   ]
  },
  {
   "cell_type": "code",
   "execution_count": null,
   "metadata": {},
   "outputs": [],
   "source": []
  }
 ],
 "metadata": {
  "kernelspec": {
   "display_name": "Python 3",
   "language": "python",
   "name": "python3"
  },
  "language_info": {
   "codemirror_mode": {
    "name": "ipython",
    "version": 3
   },
   "file_extension": ".py",
   "mimetype": "text/x-python",
   "name": "python",
   "nbconvert_exporter": "python",
   "pygments_lexer": "ipython3",
   "version": "3.10.9"
  }
 },
 "nbformat": 4,
 "nbformat_minor": 2
}
