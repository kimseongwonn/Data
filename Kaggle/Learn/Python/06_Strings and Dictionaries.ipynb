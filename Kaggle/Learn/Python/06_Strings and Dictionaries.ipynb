{
 "cells": [
  {
   "cell_type": "markdown",
   "metadata": {},
   "source": [
    "### 문자열(string)"
   ]
  },
  {
   "cell_type": "markdown",
   "metadata": {},
   "source": [
    "문자열 구분"
   ]
  },
  {
   "cell_type": "code",
   "execution_count": 1,
   "metadata": {},
   "outputs": [
    {
     "data": {
      "text/plain": [
       "True"
      ]
     },
     "execution_count": 1,
     "metadata": {},
     "output_type": "execute_result"
    }
   ],
   "source": [
    "# 문자열 구분 : ''(작은따옴표) 또는 \"\"(큰따옴표)를 사용하여 정의\n",
    "\n",
    "x = 'Pluto is a planet'\n",
    "y = \"Pluto is a planet\"\n",
    "x == y"
   ]
  },
  {
   "cell_type": "code",
   "execution_count": 2,
   "metadata": {},
   "outputs": [
    {
     "name": "stdout",
     "output_type": "stream",
     "text": [
      "Pluto's a planet!\n",
      "My dog is named \"Pluto\"\n"
     ]
    }
   ],
   "source": [
    "# 문자열에 작음따옴표 또는 큰따옴표 중 하나가 포함된 경우 포함되지 않은 것으로 정의해준다\n",
    "\n",
    "\n",
    "print(\"Pluto's a planet!\")\n",
    "print('My dog is named \"Pluto\"')"
   ]
  },
  {
   "cell_type": "code",
   "execution_count": 3,
   "metadata": {},
   "outputs": [
    {
     "ename": "SyntaxError",
     "evalue": "unterminated string literal (detected at line 2) (2840907938.py, line 2)",
     "output_type": "error",
     "traceback": [
      "\u001b[1;36m  Cell \u001b[1;32mIn[3], line 2\u001b[1;36m\u001b[0m\n\u001b[1;33m    'Pluto's a planet!'\u001b[0m\n\u001b[1;37m                      ^\u001b[0m\n\u001b[1;31mSyntaxError\u001b[0m\u001b[1;31m:\u001b[0m unterminated string literal (detected at line 2)\n"
     ]
    }
   ],
   "source": [
    "# 포함된 따옴표를 사용하여 문자열 정의시 에러 발생\n",
    "'Pluto's a planet!'"
   ]
  },
  {
   "cell_type": "code",
   "execution_count": 4,
   "metadata": {},
   "outputs": [
    {
     "data": {
      "text/plain": [
       "\"Pluto's a planet!\""
      ]
     },
     "execution_count": 4,
     "metadata": {},
     "output_type": "execute_result"
    }
   ],
   "source": [
    "# 이때 이스케이프 시퀀스(escape sequence) '\\' 를 사용하여 에러를 해결할 수 있다\n",
    "\n",
    "'Pluto\\'s a planet!'\n",
    "# ' 앞에 \\ 를 붙여서 해당 ' 는 특별한 기능을 위한 문자가 아님을 알려준다"
   ]
  },
  {
   "cell_type": "code",
   "execution_count": 5,
   "metadata": {},
   "outputs": [
    {
     "name": "stdout",
     "output_type": "stream",
     "text": [
      "What's up?\n",
      "That's \"cool\"\n",
      "Look, a mountain: /\\\n",
      "1\n",
      "2 3\n"
     ]
    }
   ],
   "source": [
    "# 이스케이프 시퀀스(escape sequence) '\\' 활용\n",
    "\n",
    "# \\' -> '\n",
    "print('What\\'s up?')\n",
    "\n",
    "# \\\" -> \"\n",
    "print(\"That's \\\"cool\\\"\")\n",
    "\n",
    "# \\\\ -> \\\n",
    "print(\"Look, a mountain: /\\\\\")\n",
    "\n",
    "# \\n -> 줄바꿈 문자\n",
    "print(\"1\\n2 3\")"
   ]
  },
  {
   "cell_type": "code",
   "execution_count": 6,
   "metadata": {},
   "outputs": [
    {
     "name": "stdout",
     "output_type": "stream",
     "text": [
      "hello\n",
      "world\n"
     ]
    }
   ],
   "source": [
    "# \\n : 줄바꿈 문자\n",
    "\n",
    "hello = \"hello\\nworld\"\n",
    "print(hello)"
   ]
  },
  {
   "cell_type": "code",
   "execution_count": 7,
   "metadata": {},
   "outputs": [
    {
     "name": "stdout",
     "output_type": "stream",
     "text": [
      "hello\n",
      "world\n"
     ]
    },
    {
     "data": {
      "text/plain": [
       "True"
      ]
     },
     "execution_count": 7,
     "metadata": {},
     "output_type": "execute_result"
    }
   ],
   "source": [
    "# 삼중 따옴표를 사용한 줄바꿈\n",
    "# 삼중 따옴표 (\"\"\" \"\"\") 의 경우 해당 기호 사이에 입력되는 문자열은 줄바꿈 문자(\\n)를 사용하지 않고 단순히 enter키로 줄을 바꿔줘도 적용된다\n",
    "\n",
    "triplequoted_hello = \"\"\"hello\n",
    "world\"\"\"\n",
    "print(triplequoted_hello)\n",
    "triplequoted_hello == hello"
   ]
  },
  {
   "cell_type": "code",
   "execution_count": 8,
   "metadata": {},
   "outputs": [
    {
     "name": "stdout",
     "output_type": "stream",
     "text": [
      "hello\n",
      "world\n",
      "hellopluto"
     ]
    }
   ],
   "source": [
    "# print() 함수의 인수 end의 기본값(default)가 '\\n' 줄바꿈 문자이다\n",
    "\n",
    "print(\"hello\")\n",
    "print(\"world\")\n",
    "\n",
    "print(\"hello\", end='') # end 인수를 ''로 지정하여 기본값이 아닌 ''가 반영되어 hello와 pluto가 줄바꿔서 출력되는게 아닌 붙어서 출력된다\n",
    "print(\"pluto\", end='')"
   ]
  },
  {
   "cell_type": "markdown",
   "metadata": {},
   "source": [
    "문자열 시퀀스"
   ]
  },
  {
   "cell_type": "code",
   "execution_count": 9,
   "metadata": {},
   "outputs": [
    {
     "data": {
      "text/plain": [
       "'P'"
      ]
     },
     "execution_count": 9,
     "metadata": {},
     "output_type": "execute_result"
    }
   ],
   "source": [
    "# 문자열은 시퀀스로 생각할 수 있다\n",
    "# 따라서 list에서 할 수 있는 것을 문자열에서 대부분 할 수 있다\n",
    "\n",
    "\n",
    "# 인덱싱(Indexing)\n",
    "planet = 'Pluto'\n",
    "planet[0]"
   ]
  },
  {
   "cell_type": "code",
   "execution_count": 10,
   "metadata": {},
   "outputs": [
    {
     "data": {
      "text/plain": [
       "'uto'"
      ]
     },
     "execution_count": 10,
     "metadata": {},
     "output_type": "execute_result"
    }
   ],
   "source": [
    "# 슬라이싱(Slicing)\n",
    "planet[-3:]"
   ]
  },
  {
   "cell_type": "code",
   "execution_count": 11,
   "metadata": {},
   "outputs": [
    {
     "data": {
      "text/plain": [
       "5"
      ]
     },
     "execution_count": 11,
     "metadata": {},
     "output_type": "execute_result"
    }
   ],
   "source": [
    "# len() 함수로 문자열 길이 구하기\n",
    "len(planet)"
   ]
  },
  {
   "cell_type": "code",
   "execution_count": 12,
   "metadata": {},
   "outputs": [
    {
     "data": {
      "text/plain": [
       "['P! ', 'l! ', 'u! ', 't! ', 'o! ']"
      ]
     },
     "execution_count": 12,
     "metadata": {},
     "output_type": "execute_result"
    }
   ],
   "source": [
    "# 문자열에서 한글자씩 추출하여 리스트 컴프리헨션 사용하기\n",
    "[char+'! ' for char in planet]"
   ]
  },
  {
   "cell_type": "code",
   "execution_count": 13,
   "metadata": {},
   "outputs": [
    {
     "ename": "TypeError",
     "evalue": "'str' object does not support item assignment",
     "output_type": "error",
     "traceback": [
      "\u001b[1;31m---------------------------------------------------------------------------\u001b[0m",
      "\u001b[1;31mTypeError\u001b[0m                                 Traceback (most recent call last)",
      "Cell \u001b[1;32mIn[13], line 3\u001b[0m\n\u001b[0;32m      1\u001b[0m \u001b[38;5;66;03m# 단, list와 달리 수정이 불가능하다(immutable)\u001b[39;00m\n\u001b[1;32m----> 3\u001b[0m \u001b[43mplanet\u001b[49m\u001b[43m[\u001b[49m\u001b[38;5;241;43m0\u001b[39;49m\u001b[43m]\u001b[49m \u001b[38;5;241m=\u001b[39m \u001b[38;5;124m'\u001b[39m\u001b[38;5;124mB\u001b[39m\u001b[38;5;124m'\u001b[39m\n\u001b[0;32m      4\u001b[0m \u001b[38;5;66;03m# planet.append() : append 메서드 또한 불가능\u001b[39;00m\n",
      "\u001b[1;31mTypeError\u001b[0m: 'str' object does not support item assignment"
     ]
    }
   ],
   "source": [
    "# 단, list와 달리 수정이 불가능하다(immutable)\n",
    "\n",
    "planet[0] = 'B'\n",
    "# planet.append() : append 메서드 또한 불가능"
   ]
  },
  {
   "cell_type": "markdown",
   "metadata": {},
   "source": [
    "문자열 메서드"
   ]
  },
  {
   "cell_type": "code",
   "execution_count": 14,
   "metadata": {},
   "outputs": [
    {
     "data": {
      "text/plain": [
       "'PLUTO IS A PLANET!'"
      ]
     },
     "execution_count": 14,
     "metadata": {},
     "output_type": "execute_result"
    }
   ],
   "source": [
    "# upper() : 모든 글자를 대문자로 변환\n",
    "\n",
    "claim = \"Pluto is a planet!\"\n",
    "claim.upper()"
   ]
  },
  {
   "cell_type": "code",
   "execution_count": 15,
   "metadata": {},
   "outputs": [
    {
     "data": {
      "text/plain": [
       "'pluto is a planet!'"
      ]
     },
     "execution_count": 15,
     "metadata": {},
     "output_type": "execute_result"
    }
   ],
   "source": [
    "# lower() : 모든 글자를 소문자로 변환\n",
    "\n",
    "claim.lower()"
   ]
  },
  {
   "cell_type": "code",
   "execution_count": 16,
   "metadata": {},
   "outputs": [
    {
     "data": {
      "text/plain": [
       "11"
      ]
     },
     "execution_count": 16,
     "metadata": {},
     "output_type": "execute_result"
    }
   ],
   "source": [
    "# index() : 해당 문자의 첫번째 글자의 인덱스 반환\n",
    "# 문자열도 index가 0부터 시작되며 띄어쓰기 공백도 인덱스를 가진다\n",
    "\n",
    "claim.index('plan')"
   ]
  },
  {
   "cell_type": "code",
   "execution_count": 20,
   "metadata": {},
   "outputs": [
    {
     "name": "stdout",
     "output_type": "stream",
     "text": [
      "Pluto\n"
     ]
    },
    {
     "data": {
      "text/plain": [
       "True"
      ]
     },
     "execution_count": 20,
     "metadata": {},
     "output_type": "execute_result"
    }
   ],
   "source": [
    "print(planet)\n",
    "\n",
    "# startswith() : 문자열이 해당 글자로 시작하는지 확인\n",
    "claim.startswith(planet)\n",
    "# planet 객체가 'Pluto'이므로 claim이 'Pluto'로 시작하는 것이 맞다"
   ]
  },
  {
   "cell_type": "code",
   "execution_count": 21,
   "metadata": {},
   "outputs": [
    {
     "data": {
      "text/plain": [
       "False"
      ]
     },
     "execution_count": 21,
     "metadata": {},
     "output_type": "execute_result"
    }
   ],
   "source": [
    "# endswith() : 문자열이 해당 글자로 끝나는지 확인\n",
    "# 언뜻보면 True 같지만 ! 가 없으므로 False\n",
    "\n",
    "claim.endswith('planet')"
   ]
  },
  {
   "cell_type": "markdown",
   "metadata": {},
   "source": [
    "문자열과 리스트 사이를 조작 : .split() and .join()"
   ]
  },
  {
   "cell_type": "code",
   "execution_count": 22,
   "metadata": {},
   "outputs": [
    {
     "data": {
      "text/plain": [
       "['Pluto', 'is', 'a', 'planet!']"
      ]
     },
     "execution_count": 22,
     "metadata": {},
     "output_type": "execute_result"
    }
   ],
   "source": [
    "# split() : 문자열을 더 작은 문자열로 나누어 리스트에 담아서 반환\n",
    "# 기본적으로 공백을 기준으로 나눈다\n",
    "\n",
    "words = claim.split()\n",
    "words"
   ]
  },
  {
   "cell_type": "code",
   "execution_count": 25,
   "metadata": {},
   "outputs": [
    {
     "name": "stdout",
     "output_type": "stream",
     "text": [
      "1956\n",
      "01\n",
      "31\n"
     ]
    }
   ],
   "source": [
    "# 나누는 기준을 공백이 아닌 것으로 설정할 수도 있다\n",
    "\n",
    "datestr = '1956-01-31'\n",
    "year, month, day = datestr.split('-')\n",
    "# '-'을 기준으로 나눈뒤 year, month, day에 각각 할당\n",
    "\n",
    "print(year)\n",
    "print(month)\n",
    "print(day)"
   ]
  },
  {
   "cell_type": "code",
   "execution_count": 26,
   "metadata": {},
   "outputs": [
    {
     "data": {
      "text/plain": [
       "'01/31/1956'"
      ]
     },
     "execution_count": 26,
     "metadata": {},
     "output_type": "execute_result"
    }
   ],
   "source": [
    "# join() : 문자열을 설정 기호를 사용하여 하나의 문자열로 합쳐서 반환\n",
    "\n",
    "'/'.join([month, day, year])\n",
    "# 설정 기호 '/'를 사용하여 year, month, day를 month, day, year 순서로 합쳐준다"
   ]
  },
  {
   "cell_type": "code",
   "execution_count": 27,
   "metadata": {},
   "outputs": [
    {
     "data": {
      "text/plain": [
       "'PLUTO 👏 IS 👏 A 👏 PLANET!'"
      ]
     },
     "execution_count": 27,
     "metadata": {},
     "output_type": "execute_result"
    }
   ],
   "source": [
    "# unicode characters를 설정 기호로 활용하여 합쳐줄 수도 있다\n",
    "# 리스트 컴프리헨션을 사용하여 모든 글자를 대문자로 변환한뒤 join() 메서드 적용\n",
    "' 👏 '.join([word.upper() for word in words])"
   ]
  },
  {
   "cell_type": "markdown",
   "metadata": {},
   "source": [
    "문자열 작성 : .format()"
   ]
  },
  {
   "cell_type": "code",
   "execution_count": 28,
   "metadata": {},
   "outputs": [
    {
     "data": {
      "text/plain": [
       "'Pluto, we miss you.'"
      ]
     },
     "execution_count": 28,
     "metadata": {},
     "output_type": "execute_result"
    }
   ],
   "source": [
    "# + 연산자를 활용하여 문자열을 연결할 수 있다\n",
    "\n",
    "planet + ', we miss you.'"
   ]
  },
  {
   "cell_type": "code",
   "execution_count": 29,
   "metadata": {},
   "outputs": [
    {
     "ename": "TypeError",
     "evalue": "can only concatenate str (not \"int\") to str",
     "output_type": "error",
     "traceback": [
      "\u001b[1;31m---------------------------------------------------------------------------\u001b[0m",
      "\u001b[1;31mTypeError\u001b[0m                                 Traceback (most recent call last)",
      "Cell \u001b[1;32mIn[29], line 3\u001b[0m\n\u001b[0;32m      1\u001b[0m \u001b[38;5;66;03m# 문자열이 아닌 객체를 추가하려면 먼저 str() 함수를 사용하여 문자열로 변환시켜줘야한다\u001b[39;00m\n\u001b[0;32m      2\u001b[0m position \u001b[38;5;241m=\u001b[39m \u001b[38;5;241m9\u001b[39m\n\u001b[1;32m----> 3\u001b[0m \u001b[43mplanet\u001b[49m\u001b[43m \u001b[49m\u001b[38;5;241;43m+\u001b[39;49m\u001b[43m \u001b[49m\u001b[38;5;124;43m\"\u001b[39;49m\u001b[38;5;124;43m, you\u001b[39;49m\u001b[38;5;124;43m'\u001b[39;49m\u001b[38;5;124;43mll always be the \u001b[39;49m\u001b[38;5;124;43m\"\u001b[39;49m\u001b[43m \u001b[49m\u001b[38;5;241;43m+\u001b[39;49m\u001b[43m \u001b[49m\u001b[43mposition\u001b[49m \u001b[38;5;241m+\u001b[39m \u001b[38;5;124m\"\u001b[39m\u001b[38;5;124mth planet to me.\u001b[39m\u001b[38;5;124m\"\u001b[39m\n\u001b[0;32m      4\u001b[0m \u001b[38;5;66;03m# 에러 발생 >> type(position)이 int이기 때문\u001b[39;00m\n",
      "\u001b[1;31mTypeError\u001b[0m: can only concatenate str (not \"int\") to str"
     ]
    }
   ],
   "source": [
    "# 문자열이 아닌 객체를 추가하려면 먼저 str() 함수를 사용하여 문자열로 변환시켜줘야한다\n",
    "position = 9\n",
    "planet + \", you'll always be the \" + position + \"th planet to me.\"\n",
    "# 에러 발생 >> type(position)이 int이기 때문"
   ]
  },
  {
   "cell_type": "code",
   "execution_count": 30,
   "metadata": {},
   "outputs": [
    {
     "data": {
      "text/plain": [
       "\"Pluto, you'll always be the 9th planet to me.\""
      ]
     },
     "execution_count": 30,
     "metadata": {},
     "output_type": "execute_result"
    }
   ],
   "source": [
    "# str() 사용 int >> str 변환\n",
    "planet + \", you'll always be the \" + str(position) + \"th planet to me.\""
   ]
  },
  {
   "cell_type": "code",
   "execution_count": 31,
   "metadata": {},
   "outputs": [
    {
     "data": {
      "text/plain": [
       "\"Pluto, you'll always be the 9th planet to me.\""
      ]
     },
     "execution_count": 31,
     "metadata": {},
     "output_type": "execute_result"
    }
   ],
   "source": [
    "# .format() : 문자열 객체의 메서드로 {} 부분에 원하는 데이터 값을 문자열로 변환하여 넣어준다\n",
    "\"{}, you'll always be the {}th planet to me.\".format(planet, position)\n",
    "\n",
    "# {} 을 사용하여 삽입하려는 값의 위치를 정해준다\n",
    "# .format() 메서드를 사용하면 str()을 사용할 필요 없다\n"
   ]
  },
  {
   "cell_type": "code",
   "execution_count": 32,
   "metadata": {},
   "outputs": [
    {
     "data": {
      "text/plain": [
       "\"Pluto weighs about 1.3e+22 kilograms (0.218% of Earth's mass). It is home to 52,910,390 Plutonians.\""
      ]
     },
     "execution_count": 32,
     "metadata": {},
     "output_type": "execute_result"
    }
   ],
   "source": [
    "\n",
    "pluto_mass = 1.303 * 10**22\n",
    "earth_mass = 5.9722 * 10**24\n",
    "population = 52910390\n",
    "#         2 decimal points   3 decimal points, format as percent     separate with commas\n",
    "\"{} weighs about {:.2} kilograms ({:.3%} of Earth's mass). It is home to {:,} Plutonians.\".format(\n",
    "    planet, pluto_mass, pluto_mass / earth_mass, population,\n",
    ")\n",
    "\n",
    "# {:.2} -> 소수점 자리수 지정 (소수점 2번째 자리까지 표시) == 1.3e+22\n",
    "# {:.3%} -> 소수점 자리수 지정 + '%' (소수점 3번째 자리까지 표시 + '%') == 0.218%\n",
    "# {:,} -> 천 단위 구분자 , 삽입 == 52,910,390"
   ]
  },
  {
   "cell_type": "code",
   "execution_count": 33,
   "metadata": {},
   "outputs": [
    {
     "name": "stdout",
     "output_type": "stream",
     "text": [
      "Pluto's a planet.\n",
      "No, it's a dwarf planet.\n",
      "planet!\n",
      "dwarf planet!\n"
     ]
    }
   ],
   "source": [
    "# 인덱싱을 이용한 포매팅도 가능하다\n",
    "# .format('planet', 'dwarf planet') 에서 0번째는 'planet', 1번째는 'dwarf planet'\n",
    "\n",
    "s = \"\"\"Pluto's a {0}.\n",
    "No, it's a {1}.\n",
    "{0}!\n",
    "{1}!\"\"\".format('planet', 'dwarf planet')\n",
    "print(s)"
   ]
  },
  {
   "cell_type": "markdown",
   "metadata": {},
   "source": [
    "### 딕셔너리(dictionary)"
   ]
  },
  {
   "cell_type": "code",
   "execution_count": 35,
   "metadata": {},
   "outputs": [
    {
     "data": {
      "text/plain": [
       "1"
      ]
     },
     "execution_count": 35,
     "metadata": {},
     "output_type": "execute_result"
    }
   ],
   "source": [
    "# 딕셔너리는 키(key)와 값(value)을 매핑하기 위한 데이터 형태\n",
    "\n",
    "numbers = {'one':1, 'two':2, 'three':3}\n",
    "# 'one', 'two', 'three'는 key이고 1,2,3은 각각의 키에 해당하는 값\n",
    "\n",
    "# 키(key)를 가지고 값(vlaue)에 접근할 수 있다\n",
    "numbers['one']"
   ]
  },
  {
   "cell_type": "code",
   "execution_count": 36,
   "metadata": {},
   "outputs": [
    {
     "data": {
      "text/plain": [
       "{'one': 1, 'two': 2, 'three': 3, 'eleven': 11}"
      ]
     },
     "execution_count": 36,
     "metadata": {},
     "output_type": "execute_result"
    }
   ],
   "source": [
    "# 새로운 키와 값을 추가할 수 있다\n",
    "\n",
    "numbers['eleven'] = 11\n",
    "numbers"
   ]
  },
  {
   "cell_type": "code",
   "execution_count": 38,
   "metadata": {},
   "outputs": [
    {
     "data": {
      "text/plain": [
       "{'one': 'Pluto', 'two': 2, 'three': 3, 'eleven': 11}"
      ]
     },
     "execution_count": 38,
     "metadata": {},
     "output_type": "execute_result"
    }
   ],
   "source": [
    "# 기존 키와 연관된 값을 변경할 수 있다\n",
    "\n",
    "numbers['one'] = 'Pluto'\n",
    "numbers"
   ]
  },
  {
   "cell_type": "markdown",
   "metadata": {},
   "source": [
    "딕셔너리 컴프리헨션"
   ]
  },
  {
   "cell_type": "code",
   "execution_count": 39,
   "metadata": {},
   "outputs": [
    {
     "data": {
      "text/plain": [
       "{'Mercury': 'M',\n",
       " 'Venus': 'V',\n",
       " 'Earth': 'E',\n",
       " 'Mars': 'M',\n",
       " 'Jupiter': 'J',\n",
       " 'Saturn': 'S',\n",
       " 'Uranus': 'U',\n",
       " 'Neptune': 'N'}"
      ]
     },
     "execution_count": 39,
     "metadata": {},
     "output_type": "execute_result"
    }
   ],
   "source": [
    "# 리스트 컴프리헨션과 비슷한 문법\n",
    "\n",
    "planets = ['Mercury', 'Venus', 'Earth', 'Mars', 'Jupiter', 'Saturn', 'Uranus', 'Neptune']\n",
    "planet_to_initial = {planet: planet[0] for planet in planets}\n",
    "planet_to_initial"
   ]
  },
  {
   "cell_type": "code",
   "execution_count": 40,
   "metadata": {},
   "outputs": [
    {
     "data": {
      "text/plain": [
       "True"
      ]
     },
     "execution_count": 40,
     "metadata": {},
     "output_type": "execute_result"
    }
   ],
   "source": [
    "#  연산자 in 을 사용하여 사전의 키가 맞는지 여부를 확인할 수 있다\n",
    "'Saturn' in planet_to_initial"
   ]
  },
  {
   "cell_type": "code",
   "execution_count": 42,
   "metadata": {},
   "outputs": [
    {
     "data": {
      "text/plain": [
       "False"
      ]
     },
     "execution_count": 42,
     "metadata": {},
     "output_type": "execute_result"
    }
   ],
   "source": [
    "'Betelgeuse' in planet_to_initial"
   ]
  },
  {
   "cell_type": "code",
   "execution_count": 43,
   "metadata": {},
   "outputs": [
    {
     "name": "stdout",
     "output_type": "stream",
     "text": [
      "one = Pluto\n",
      "two = 2\n",
      "three = 3\n",
      "eleven = 11\n"
     ]
    }
   ],
   "source": [
    "# for 반복문에서 딕셔너리가 item의 집합으로 사용되면 키가 item에 차례대로 반복 할당된다\n",
    "\n",
    "for k in numbers:\n",
    "    print(\"{} = {}\".format(k, numbers[k]))"
   ]
  },
  {
   "cell_type": "code",
   "execution_count": 46,
   "metadata": {},
   "outputs": [
    {
     "data": {
      "text/plain": [
       "'Mercury/Venus/Earth/Mars/Jupiter/Saturn/Uranus/Neptune'"
      ]
     },
     "execution_count": 46,
     "metadata": {},
     "output_type": "execute_result"
    }
   ],
   "source": [
    "# .keys() : 딕셔너리의 key 모음\n",
    "\n",
    "'/'.join(planet_to_initial.keys())"
   ]
  },
  {
   "cell_type": "code",
   "execution_count": 47,
   "metadata": {},
   "outputs": [
    {
     "data": {
      "text/plain": [
       "'E J M M N S U V'"
      ]
     },
     "execution_count": 47,
     "metadata": {},
     "output_type": "execute_result"
    }
   ],
   "source": [
    "# .values() : 딕셔너리의 value 모음\n",
    "\n",
    "# Get all the initials, sort them alphabetically, and put them in a space-separated string.\n",
    "' '.join(sorted(planet_to_initial.values()))"
   ]
  },
  {
   "cell_type": "code",
   "execution_count": 52,
   "metadata": {},
   "outputs": [
    {
     "data": {
      "text/plain": [
       "dict_items([('Mercury', 'M'), ('Venus', 'V'), ('Earth', 'E'), ('Mars', 'M'), ('Jupiter', 'J'), ('Saturn', 'S'), ('Uranus', 'U'), ('Neptune', 'N')])"
      ]
     },
     "execution_count": 52,
     "metadata": {},
     "output_type": "execute_result"
    }
   ],
   "source": [
    "# .items() : 각각의 키와 값을 튜플에 담아서 한번에 반환\n",
    "\n",
    "planet_to_initial.items()"
   ]
  },
  {
   "cell_type": "code",
   "execution_count": 53,
   "metadata": {},
   "outputs": [
    {
     "name": "stdout",
     "output_type": "stream",
     "text": [
      "   Mercury begins with \"M\"\n",
      "     Venus begins with \"V\"\n",
      "     Earth begins with \"E\"\n",
      "      Mars begins with \"M\"\n",
      "   Jupiter begins with \"J\"\n",
      "    Saturn begins with \"S\"\n",
      "    Uranus begins with \"U\"\n",
      "   Neptune begins with \"N\"\n"
     ]
    }
   ],
   "source": [
    "# .items() 반복문 활용\n",
    "for planet, initial in planet_to_initial.items():\n",
    "    print(\"{} begins with \\\"{}\\\"\".format(planet.rjust(10), initial))"
   ]
  },
  {
   "cell_type": "code",
   "execution_count": null,
   "metadata": {},
   "outputs": [],
   "source": []
  }
 ],
 "metadata": {
  "kernelspec": {
   "display_name": "Python 3",
   "language": "python",
   "name": "python3"
  },
  "language_info": {
   "codemirror_mode": {
    "name": "ipython",
    "version": 3
   },
   "file_extension": ".py",
   "mimetype": "text/x-python",
   "name": "python",
   "nbconvert_exporter": "python",
   "pygments_lexer": "ipython3",
   "version": "3.10.9"
  }
 },
 "nbformat": 4,
 "nbformat_minor": 2
}
