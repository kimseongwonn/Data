{
 "cells": [
  {
   "cell_type": "markdown",
   "metadata": {},
   "source": [
    "### 반복문(Loop)"
   ]
  },
  {
   "cell_type": "markdown",
   "metadata": {},
   "source": [
    "for 반복문"
   ]
  },
  {
   "cell_type": "code",
   "execution_count": 1,
   "metadata": {},
   "outputs": [
    {
     "name": "stdout",
     "output_type": "stream",
     "text": [
      "Mercury Venus Earth Mars Jupiter Saturn Uranus Neptune "
     ]
    }
   ],
   "source": [
    "planets = ['Mercury', 'Venus', 'Earth', 'Mars', 'Jupiter', 'Saturn', 'Uranus', 'Neptune']\n",
    "\n",
    "# for 반복문\n",
    "# for a in b : b에서 값을 하나씩 추출하여 a에 할당시킨뒤 for 반복문 코드 블럭을 실행\n",
    "# a : 사용할 변수의 이름\n",
    "# b : 반복할 값의 집합\n",
    "for planet in planets:\n",
    "    print(planet, end=' ') # end 인수의 기본값을 ' '으로 변경하여 한줄에 출력되도록 함"
   ]
  },
  {
   "cell_type": "code",
   "execution_count": 2,
   "metadata": {},
   "outputs": [
    {
     "data": {
      "text/plain": [
       "360"
      ]
     },
     "execution_count": 2,
     "metadata": {},
     "output_type": "execute_result"
    }
   ],
   "source": [
    "multiplicands = (2, 2, 2, 3, 3, 5)\n",
    "product = 1\n",
    "\n",
    "for mult in multiplicands: # multiplicands 의 값을 하나씩 추출하여 mult에 담은 뒤 \n",
    "    product = product * mult # 해당 코드 블럭을 실행\n",
    "    \n",
    "    # 즉, (2,2,2,3,3,5) 에서 값이 차례대로 나와서 mult에 담기고\n",
    "    # product = product * mult가 값이 담길 때 마다 실행 된다\n",
    "    # 1) mult = 2 -> product = 1 -> 코드 블럭 실행 결과값 2\n",
    "    # 2) mult = 2 -> product = 2(1)에서 나온 결과값 product) -> 코드 블럭 실행 결과값 4\n",
    "    # 3) mult = 2 -> product = 4(2)에서 나온 결과값 product) -> 코드 블럭 실행 결과값 8\n",
    "    # 이 과정을 마지막 값 5가 나올때 까지 반복\n",
    "product"
   ]
  },
  {
   "cell_type": "code",
   "execution_count": 3,
   "metadata": {},
   "outputs": [
    {
     "name": "stdout",
     "output_type": "stream",
     "text": [
      "HELLO"
     ]
    }
   ],
   "source": [
    "# 문자열의 각 문자를 반복할 수 도 있다\n",
    "s = 'steganograpHy is the practicE of conceaLing a file, message, image, or video within another fiLe, message, image, Or video.'\n",
    "msg = ''\n",
    "\n",
    "# print all the uppercase letters in s, one at a time\n",
    "for char in s: # 문자열 s에서 알파벳 하나씩 char에 담는다\n",
    "    if char.isupper(): # 조건 : 담긴 알파벳이 isupper 메서드(대문자인지 판별)를 거쳐서 대문자이면 print 함수 호출\n",
    "        print(char, end='')"
   ]
  },
  {
   "cell_type": "markdown",
   "metadata": {},
   "source": [
    "range()"
   ]
  },
  {
   "cell_type": "code",
   "execution_count": 4,
   "metadata": {},
   "outputs": [
    {
     "name": "stdout",
     "output_type": "stream",
     "text": [
      "Doing important work. i = 0\n",
      "Doing important work. i = 1\n",
      "Doing important work. i = 2\n",
      "Doing important work. i = 3\n",
      "Doing important work. i = 4\n"
     ]
    }
   ],
   "source": [
    "# range() : 숫자 시퀀스를 반환하는 함수\n",
    "# range(n) : 0~n-1 까지 숫자 시퀀스를 반환한다\n",
    "# 0, 1, 2,...,n-1\n",
    "# range(5) >> 0,1,2,3,4\n",
    "\n",
    "for i in range(5):\n",
    "    print(\"Doing important work. i =\", i)"
   ]
  },
  {
   "cell_type": "markdown",
   "metadata": {},
   "source": [
    "while 반복문"
   ]
  },
  {
   "cell_type": "code",
   "execution_count": 5,
   "metadata": {},
   "outputs": [
    {
     "name": "stdout",
     "output_type": "stream",
     "text": [
      "0 1 2 3 4 5 6 7 8 9 "
     ]
    }
   ],
   "source": [
    "# while 반복문 : 어떤 조건이 충족될 때까지 반복되는 반복문\n",
    "\n",
    "i = 0\n",
    "while i < 10: # 정지조건 i가 10보다 작을때문 True이므로 i가 10보다 크거나 같아지면 정지한다\n",
    "    print(i, end=' ')\n",
    "    i += 1 # i = i + 1 의 축약형"
   ]
  },
  {
   "cell_type": "markdown",
   "metadata": {},
   "source": [
    "### 리스트 컴프리헨션(List comprehensions)"
   ]
  },
  {
   "cell_type": "code",
   "execution_count": 6,
   "metadata": {},
   "outputs": [
    {
     "data": {
      "text/plain": [
       "[0, 1, 4, 9, 16, 25, 36, 49, 64, 81]"
      ]
     },
     "execution_count": 6,
     "metadata": {},
     "output_type": "execute_result"
    }
   ],
   "source": [
    "# 리스트 컴프리헨션 : 반복문을 리스트 생성 [] 안에 간단하게 표시하여 코드의 간결함과 경제성을 얻을 수 있는 문법\n",
    "\n",
    "squares = [n**2 for n in range(10)]\n",
    "squares"
   ]
  },
  {
   "cell_type": "code",
   "execution_count": 7,
   "metadata": {},
   "outputs": [
    {
     "data": {
      "text/plain": [
       "[0, 1, 4, 9, 16, 25, 36, 49, 64, 81]"
      ]
     },
     "execution_count": 7,
     "metadata": {},
     "output_type": "execute_result"
    }
   ],
   "source": [
    "# 아래의 반복문은 위의 리스트 컴프리헨션과 정확히 같은 동작을 한다\n",
    "# 그러나 위의 리스트 컴프리헨션은 2줄이지만 아래의 반복문은 4줄이므로 리스트 컴프리헨션이 더욱 간결하고 경제성있다\n",
    "\n",
    "squares = []\n",
    "for n in range(10):\n",
    "    squares.append(n**2)\n",
    "squares"
   ]
  },
  {
   "cell_type": "code",
   "execution_count": null,
   "metadata": {},
   "outputs": [],
   "source": [
    "# 리스트 컴프리헨션 만드는 법\n",
    "# 기본 구조 : [expression for item in iterable]\n",
    "# expression : 값이 표현될 식\n",
    "# item : expression에서 쓰일 값이 할당되는 객체\n",
    "# iterable : item에 할당될 값의 모임"
   ]
  },
  {
   "cell_type": "code",
   "execution_count": 8,
   "metadata": {},
   "outputs": [
    {
     "data": {
      "text/plain": [
       "['Venus', 'Earth', 'Mars']"
      ]
     },
     "execution_count": 8,
     "metadata": {},
     "output_type": "execute_result"
    }
   ],
   "source": [
    "# 조건문을 포함한 리스트 컴프리헨션\n",
    "\n",
    "short_planets = [planet for planet in planets if len(planet) < 6]\n",
    "short_planets"
   ]
  },
  {
   "cell_type": "code",
   "execution_count": 9,
   "metadata": {},
   "outputs": [
    {
     "data": {
      "text/plain": [
       "['VENUS!', 'EARTH!', 'MARS!']"
      ]
     },
     "execution_count": 9,
     "metadata": {},
     "output_type": "execute_result"
    }
   ],
   "source": [
    "# 조건문을 사용하여 item을 필터링한 뒤 표현될 식에 사용하여 표현\n",
    "\n",
    "loud_short_planets = [planet.upper() + '!' for planet in planets if len(planet) < 6]\n",
    "loud_short_planets"
   ]
  },
  {
   "cell_type": "code",
   "execution_count": 11,
   "metadata": {},
   "outputs": [
    {
     "data": {
      "text/plain": [
       "['VENUS!', 'EARTH!', 'MARS!']"
      ]
     },
     "execution_count": 11,
     "metadata": {},
     "output_type": "execute_result"
    }
   ],
   "source": [
    "# 3줄로 나누면 더욱 구조가 명확하게 보인다\n",
    "loud_short_planets= \\\n",
    "[\n",
    "    planet.upper() + '!' # 표현식 : 필터링 된 item으로 표현식 적용 후 결과값 출력\n",
    "    for planet in planets # 반복문 : item을 추출하여 반복 할당\n",
    "    if len(planet) < 6 # 조건문 : item을 필터링\n",
    "]\n",
    "\n",
    "loud_short_planets"
   ]
  },
  {
   "cell_type": "code",
   "execution_count": 12,
   "metadata": {},
   "outputs": [
    {
     "data": {
      "text/plain": [
       "[32, 32, 32, 32, 32, 32, 32, 32]"
      ]
     },
     "execution_count": 12,
     "metadata": {},
     "output_type": "execute_result"
    }
   ],
   "source": [
    "# 표현식의 item 객체가 활용되지 않아도 item의 수만큼 표현식이 반복되어 출력된다\n",
    "\n",
    "[32 for planet in planets]"
   ]
  },
  {
   "cell_type": "code",
   "execution_count": 13,
   "metadata": {},
   "outputs": [],
   "source": [
    "# min(), max(), sum()과 같은 함수와 결합된 리스트 컴프리헨션을 사용하면 더욱 효과적으로 사용할 수 있다\n",
    "\n",
    "# 일반적인 반복문 조건문을 활용한 함수 정의\n",
    "def count_negatives(nums):\n",
    "    \"\"\"Return the number of negative numbers in the given list.\n",
    "    \n",
    "    >>> count_negatives([5, -1, -2, 0, 3])\n",
    "    2\n",
    "    \"\"\"\n",
    "    n_negative = 0\n",
    "    for num in nums:\n",
    "        if num < 0:\n",
    "            n_negative = n_negative + 1\n",
    "    return n_negative"
   ]
  },
  {
   "cell_type": "code",
   "execution_count": 15,
   "metadata": {},
   "outputs": [
    {
     "data": {
      "text/plain": [
       "2"
      ]
     },
     "execution_count": 15,
     "metadata": {},
     "output_type": "execute_result"
    }
   ],
   "source": [
    "count_negatives([5, -1, -2, 0, 3])"
   ]
  },
  {
   "cell_type": "code",
   "execution_count": 21,
   "metadata": {},
   "outputs": [],
   "source": [
    "# 리스트 컴프리헨션을 활용한 함수 정의\n",
    "def count_negatives(nums):\n",
    "    return len([num for num in nums if num < 0])\n",
    "    \n",
    "    \"\"\"\n",
    "    [\n",
    "        num # 표현식 : 조건문이 참이면 출력\n",
    "        for num in nums # 반복문 : nums에서 num으로 하나씩 값을 할당하여 조건문이 참인지 거짓인지 본다\n",
    "        if num < 0 # 조건문 : num이 음수일 때 표현식이 출력된다\n",
    "    ]\n",
    "    \"\"\"\n",
    "    # 즉, 조건문이 참일 경우 num이 리스트에 담기게 된다\n",
    "    # 리스트에 값이 담기는 것은 리스트의 길이가 +1 되는 것이다\n",
    "    # 그러므로 len(결과 리스트)를 반환하여도 n_negative = n_negative + 1 의 n_negative를 반환하는 것과 같은 결과를 구할 수 있다"
   ]
  },
  {
   "cell_type": "code",
   "execution_count": 22,
   "metadata": {},
   "outputs": [
    {
     "data": {
      "text/plain": [
       "2"
      ]
     },
     "execution_count": 22,
     "metadata": {},
     "output_type": "execute_result"
    }
   ],
   "source": [
    "count_negatives([5, -1, -2, 0, 3])"
   ]
  },
  {
   "cell_type": "code",
   "execution_count": null,
   "metadata": {},
   "outputs": [],
   "source": [
    "# sum() 함수와 리스트 컴프리헨션을 활용한 함수 정의\n",
    "def count_negatives(nums):\n",
    "    return sum([num < 0 for num in nums])\n",
    "\n",
    "    # [num < 0 for num in nums] >> num이 음수일 때 True를 반환 그 외는 False를 반환\n",
    "    # count_negatives([5, -1, -2, 0, 3]) 일 때\n",
    "    # 결과 >> [False, True, Ture, False, False]\n",
    "    # bool 의 경우 True는 1, False는 0으로 간주\n",
    "    # 따라서 sum([False, True, Ture, False, False]) = 2\n",
    "    \n",
    "# bool 타입의 특성과 sum() 함수를 활용한 매우 좋은 코드"
   ]
  },
  {
   "cell_type": "code",
   "execution_count": null,
   "metadata": {},
   "outputs": [],
   "source": []
  }
 ],
 "metadata": {
  "kernelspec": {
   "display_name": "Python 3",
   "language": "python",
   "name": "python3"
  },
  "language_info": {
   "codemirror_mode": {
    "name": "ipython",
    "version": 3
   },
   "file_extension": ".py",
   "mimetype": "text/x-python",
   "name": "python",
   "nbconvert_exporter": "python",
   "pygments_lexer": "ipython3",
   "version": "3.10.9"
  }
 },
 "nbformat": 4,
 "nbformat_minor": 2
}
