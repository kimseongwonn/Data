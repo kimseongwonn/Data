{
  "nbformat": 4,
  "nbformat_minor": 0,
  "metadata": {
    "colab": {
      "provenance": []
    },
    "kernelspec": {
      "name": "python3",
      "display_name": "Python 3"
    },
    "language_info": {
      "name": "python"
    }
  },
  "cells": [
    {
      "cell_type": "markdown",
      "source": [
        "**나이 계산**\n",
        "\n",
        "나이를 세는 방법은 여러 가지가 있습니다. 그중 한국식 나이는 태어난 순간 1살이 되며 해가 바뀔 때마다 1살씩 더 먹게 됩니다. 연 나이는 태어난 순간 0살이며 해가 바뀔 때마다 1살씩 더 먹게 됩니다. 각각 나이의 계산법은 다음과 같습니다.\n",
        "\n",
        "한국식 나이 : 현재 연도 - 출생 연도 + 1\n",
        "연 나이 : 현재 연도 - 출생 연도\n",
        "\n",
        "출생 연도를 나타내는 정수 year와 구하려는 나이의 종류를 나타내는 문자열 age_type이 주어질 때 2030년에 몇 살인지 출력하도록 빈칸을 채워 코드를 완성해 주세요. age_type이 \"Korea\"라면 한국식 나이를, \"Year\"라면 연 나이를 출력합니다.\n",
        "\n",
        "**제한사항**\n",
        "- 1950 ≤ year ≤ 2030\n",
        "- age_type은 \"Korea\" 또는 \"Year\"만 주어집니다."
      ],
      "metadata": {
        "id": "_M888cZfdCTJ"
      }
    },
    {
      "cell_type": "code",
      "execution_count": 2,
      "metadata": {
        "colab": {
          "base_uri": "https://localhost:8080/"
        },
        "id": "kTYUz-1gc_6w",
        "outputId": "0b6c2efa-47a8-42ed-a27c-17db04bc04f9"
      },
      "outputs": [
        {
          "output_type": "stream",
          "name": "stdout",
          "text": [
            "1999\n",
            "Year\n",
            "31\n"
          ]
        }
      ],
      "source": [
        "year = int(input())\n",
        "age_type = input()\n",
        "\n",
        "if age_type == 'Korea':\n",
        "    answer = 2030 - year + 1\n",
        "elif age_type == 'Year':\n",
        "    answer = 2030 - year\n",
        "\n",
        "print(answer)"
      ]
    },
    {
      "cell_type": "markdown",
      "source": [
        "**저축**\n",
        "\n",
        "진우는 돈을 모으기 위해 저축을 하려고 합니다. 목표로 하는 금액은 100만 원이며, 첫 달에 일정 금액을 넣은 뒤 70만 원까지는 매월 조금씩 저축하다가 70만 원 이후부터는 월 저축량을 늘려 빠르게 목표 금액을 달성하고자 합니다.\n",
        "\n",
        "첫 달에 저축하는 금액을 나타내는 정수 start, 두 번째 달 부터 70만 원 이상 모일 때까지 매월 저축하는 금액을 나타내는 정수 before, 100만 원 이상 모일 때 까지 매월 저축하는 금액을 나타내는 정수 after가 주어질 때, 100만 원 이상을 모을 때까지 걸리는 개월 수를 출력하도록 빈칸을 채워 코드를 완성해 주세요.\n",
        "\n",
        "**제한사항**\n",
        "- 0 ≤ start ≤ 99\n",
        "- 1 ≤ before ≤ after ≤ 25"
      ],
      "metadata": {
        "id": "8ywzpxXjeYBk"
      }
    },
    {
      "cell_type": "code",
      "source": [
        "start = int(input())\n",
        "before = int(input())\n",
        "after = int(input())\n",
        "\n",
        "money = start\n",
        "month = 1\n",
        "while money < 70:\n",
        "    money += before\n",
        "    month += 1\n",
        "\n",
        "while 70 <= money <= 100: # '70 <=' 다음 조건은 필요 없음 >> 이미 위에서 'money'가 70 이상이 되었기 때문에 해당 코드가 실행되기 때문\n",
        "    money += after\n",
        "    month += 1\n",
        "\n",
        "print(month)"
      ],
      "metadata": {
        "colab": {
          "base_uri": "https://localhost:8080/"
        },
        "id": "Oeq2WsUud0Vi",
        "outputId": "9287e5f0-14e6-4ed6-a420-c17ed9c793d0"
      },
      "execution_count": 5,
      "outputs": [
        {
          "output_type": "stream",
          "name": "stdout",
          "text": [
            "28\n",
            "6\n",
            "8\n",
            "12\n"
          ]
        }
      ]
    },
    {
      "cell_type": "markdown",
      "source": [
        "**산책**\n",
        "여름이는 강아지를 산책시키려고 합니다. 여름이는 2차원 좌표평면에서 동/서/남/북 방향으로 1m 단위로 이동하면서 강아지를 산책시킵니다. 산책루트가 담긴 문자열 route가 주어질 때, 도착점의 위치를 return하도록 빈칸을 채워 solution함수를 완성해 주세요.\n",
        "- route는 \"N\", \"S\", \"E\", \"W\"로 이루어져 있습니다\n",
        "    - \"N\"은 북쪽으로 1만큼 움직입니다.\n",
        "    - \"S\"는 남쪽으로 1만큼 움직입니다.\n",
        "        - 북쪽으로 -1만큼 움직인 것과 같습니다.\n",
        "    - \"E\"는 동쪽으로 1만큼 움직입니다.\n",
        "    - \"W\"는 서쪽으로 1만큼 움직입니다.\n",
        "        - 동쪽으로 -1만큼 움직인 것과 같습니다.\n",
        "- 출발점으로부터 [동쪽으로 떨어진 거리, 북쪽으로 떨어진 거리]형태로 강아지의 최종 위치를 구해서 return해야 합니다.\n",
        "- 출발점을 기준으로 서쪽, 남쪽에 있는 경우는 동쪽, 북쪽으로 음수만큼 떨어진 것으로 표현합니다.\n",
        "    - 출발점으로부터 동쪽으로 2, 북쪽으로 3만큼 떨어졌다면 [2, 3]을 return 합니다.\n",
        "    - 출발점으로부터 서쪽으로 1, 남쪽으로 4만큼 떨어졌다면 [-1, -4]를 return 합니다.\n",
        "\n",
        "**제한사항**\n",
        "- 1 ≤ route의 길이 ≤ 20\n",
        "- route는 \"N\", \"S\", \"E\", \"W\"로만 이루어져 있습니다."
      ],
      "metadata": {
        "id": "vv4Xq1kXg_nH"
      }
    },
    {
      "cell_type": "code",
      "source": [
        "def solution(route):\n",
        "    east = 0\n",
        "    north = 0\n",
        "    for i in route:\n",
        "        if i == \"N\":\n",
        "            north += 1\n",
        "        elif i == \"S\" :\n",
        "            north -= 1\n",
        "        elif i == \"E\" :\n",
        "            east += 1\n",
        "        elif i == \"W\":\n",
        "            east -= 1\n",
        "\n",
        "    return [east, north]"
      ],
      "metadata": {
        "id": "LglEUe3pfzk4"
      },
      "execution_count": 6,
      "outputs": []
    },
    {
      "cell_type": "code",
      "source": [
        "solution(\"EESEEWNWSNWWNS\")"
      ],
      "metadata": {
        "colab": {
          "base_uri": "https://localhost:8080/"
        },
        "id": "Zrd6fW0MiMQR",
        "outputId": "91d5d297-345e-4f15-937b-ffc07242f6f1"
      },
      "execution_count": 11,
      "outputs": [
        {
          "output_type": "execute_result",
          "data": {
            "text/plain": [
              "[0, 0]"
            ]
          },
          "metadata": {},
          "execution_count": 11
        }
      ]
    },
    {
      "cell_type": "markdown",
      "source": [
        "**가채점**\n",
        "\n",
        "A반 학생들은 시험이 끝난 뒤 성적이 나오기 전 자기 시험지를 가채점해 보았습니다. 이후에 선생님이 실제 성적을 불러 줄 때 가채점한 점수와 실제 성적이 다른 학생들이 있어 선생님께 문의를 하려고 합니다.\n",
        "\n",
        "성적을 문의하려는 학생들의 번호가 담긴 정수 리스트 numbers와 가채점한 점수가 성적을 문의하려는 학생 순서대로 담긴 정수 리스트 our_score, 실제 성적이 번호 순서대로 담긴 정수 리스트 score_list가 주어집니다. 주어진 solution 함수는 가채점한 점수가 실제 성적과 동일하다면 \"Same\"을, 다르다면 \"Different\"를 순서대로 리스트에 담아 return하는 함수입니다. solution 함수가 올바르게 작동하도록 한 줄을 수정해 주세요.\n",
        "\n",
        "**제한사항**\n",
        "- 1 ≤ numbers의 길이 = our_score의 길이 ≤ 10\n",
        "    - 1 ≤ numbers의 원소 ≤ 31\n",
        "    - 0 ≤ our_score의 원소 ≤ 100\n",
        "    - our_score[i]는 numbers[i]번 학생이 가채점한 점수입니다.\n",
        "    - numbers는 중복된 원소를 가지지 않습니다.\n",
        "- 2 ≤ score_list의 길이 ≤ 31\n",
        "    - 0 ≤ score_list의 원소 ≤ 100\n",
        "    - score_list에는 실제 성적이 [1번 학생 성적, 2번 학생 성적, 3번 학생 성적 …] 순서로 들어있습니다."
      ],
      "metadata": {
        "id": "xBHnrMWzjDoG"
      }
    },
    {
      "cell_type": "code",
      "source": [
        "def solution(numbers, our_score, score_list):\n",
        "    answer = []\n",
        "    for i in range(len(numbers)):\n",
        "        if our_score[i] == score_list[numbers[i]-1]:\n",
        "            answer.append(\"Same\")\n",
        "        else:\n",
        "            answer.append(\"Different\")\n",
        "\n",
        "    return answer"
      ],
      "metadata": {
        "id": "UwtZusW4iQfW"
      },
      "execution_count": 16,
      "outputs": []
    },
    {
      "cell_type": "code",
      "source": [
        "numbers_1 = [1]\n",
        "our_score_1 = [100]\n",
        "score_list_1 = [100, 80, 90, 84, 20]\n",
        "\n",
        "numbers_2 = [3, 4]\n",
        "our_score_2 = [85,93]\n",
        "score_list_2 = [85, 92, 38, 93, 48, 85, 92, 56]\n",
        "\n",
        "print(solution(numbers_1, our_score_1, score_list_1))\n",
        "print(solution(numbers_2, our_score_2, score_list_2))"
      ],
      "metadata": {
        "colab": {
          "base_uri": "https://localhost:8080/"
        },
        "id": "RUU79VtdkYEw",
        "outputId": "afd487c5-a5ea-4e59-c120-a6dfa1b202e3"
      },
      "execution_count": 18,
      "outputs": [
        {
          "output_type": "stream",
          "name": "stdout",
          "text": [
            "['Same']\n",
            "['Different', 'Same']\n"
          ]
        }
      ]
    },
    {
      "cell_type": "code",
      "source": [],
      "metadata": {
        "id": "oRAStDoSkwGt"
      },
      "execution_count": null,
      "outputs": []
    }
  ]
}