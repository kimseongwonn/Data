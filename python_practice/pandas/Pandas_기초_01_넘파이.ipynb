{
 "cells": [
  {
   "cell_type": "code",
   "execution_count": 2,
   "metadata": {},
   "outputs": [
    {
     "data": {
      "text/plain": [
       "[0, 1, 2, 3, 4, 5, 6, 7, 8, 9]"
      ]
     },
     "execution_count": 2,
     "metadata": {},
     "output_type": "execute_result"
    }
   ],
   "source": [
    "import pandas as pd\n",
    "import numpy as np\n",
    "\n",
    "\n",
    "# 배열 만들기\n",
    "list(range(10))"
   ]
  },
  {
   "cell_type": "code",
   "execution_count": 3,
   "metadata": {},
   "outputs": [
    {
     "data": {
      "text/plain": [
       "array([1, 2, 3, 4, 5])"
      ]
     },
     "execution_count": 3,
     "metadata": {},
     "output_type": "execute_result"
    }
   ],
   "source": [
    "np.array([1,2,3,4,5])"
   ]
  },
  {
   "cell_type": "code",
   "execution_count": 5,
   "metadata": {},
   "outputs": [
    {
     "name": "stdout",
     "output_type": "stream",
     "text": [
      "[3.  1.4 2.  3.  4.5]\n"
     ]
    }
   ],
   "source": [
    "print(np.array([3, 1.4, 2, 3, 4.5]))\n",
    "# numpy array는 단일 데이터 타입만 저장 가능\n",
    "# 정수와 실수가 혼용 시 더 큰 범위인 실수로 자동 변경"
   ]
  },
  {
   "cell_type": "code",
   "execution_count": 6,
   "metadata": {},
   "outputs": [
    {
     "data": {
      "text/plain": [
       "array([[1, 2],\n",
       "       [3, 4]])"
      ]
     },
     "execution_count": 6,
     "metadata": {},
     "output_type": "execute_result"
    }
   ],
   "source": [
    "np.array([[1,2], [3,4]])"
   ]
  },
  {
   "cell_type": "code",
   "execution_count": 7,
   "metadata": {},
   "outputs": [
    {
     "data": {
      "text/plain": [
       "array([1, 2, 3, 4])"
      ]
     },
     "execution_count": 7,
     "metadata": {},
     "output_type": "execute_result"
    }
   ],
   "source": [
    "np.array([1,2,3,4])"
   ]
  },
  {
   "cell_type": "code",
   "execution_count": 10,
   "metadata": {},
   "outputs": [
    {
     "name": "stdout",
     "output_type": "stream",
     "text": [
      "[1 2 3 4]\n",
      "[1. 2. 3. 4.]\n",
      "\n",
      "[1. 2. 3. 4.]\n",
      "float64\n",
      "[1 2 3 4]\n",
      "[1. 2. 3. 4.]\n"
     ]
    }
   ],
   "source": [
    "print(np.array([1,2,3,4]))\n",
    "print(np.array([1,2,3,4], dtype = float))\n",
    "# 'dtype=' 로 데이터 타입 지정 가능\n",
    "\n",
    "print()\n",
    "arr = np.array([1,2,3,4], dtype = float)\n",
    "print(arr)\n",
    "print(arr.dtype)\n",
    "print(arr.astype(int)) # 원본은 변경 안됨\n",
    "print(arr) # 원본은 변경 안됨"
   ]
  },
  {
   "cell_type": "code",
   "execution_count": 11,
   "metadata": {},
   "outputs": [
    {
     "data": {
      "text/plain": [
       "array([0, 0, 0, 0, 0, 0, 0, 0, 0, 0])"
      ]
     },
     "execution_count": 11,
     "metadata": {},
     "output_type": "execute_result"
    }
   ],
   "source": [
    "np.zeros(10, dtype=int)"
   ]
  },
  {
   "cell_type": "code",
   "execution_count": 12,
   "metadata": {},
   "outputs": [
    {
     "data": {
      "text/plain": [
       "array([[1., 1., 1., 1., 1.],\n",
       "       [1., 1., 1., 1., 1.],\n",
       "       [1., 1., 1., 1., 1.]])"
      ]
     },
     "execution_count": 12,
     "metadata": {},
     "output_type": "execute_result"
    }
   ],
   "source": [
    "np.ones((3,5), dtype=float)"
   ]
  },
  {
   "cell_type": "code",
   "execution_count": 16,
   "metadata": {},
   "outputs": [
    {
     "data": {
      "text/plain": [
       "array([ 0,  2,  4,  6,  8, 10, 12, 14, 16, 18])"
      ]
     },
     "execution_count": 16,
     "metadata": {},
     "output_type": "execute_result"
    }
   ],
   "source": [
    "# start, end, step\n",
    "np.arange(0,20,2)"
   ]
  },
  {
   "cell_type": "code",
   "execution_count": 17,
   "metadata": {},
   "outputs": [
    {
     "data": {
      "text/plain": [
       "array([0.  , 0.25, 0.5 , 0.75, 1.  ])"
      ]
     },
     "execution_count": 17,
     "metadata": {},
     "output_type": "execute_result"
    }
   ],
   "source": [
    "# start, end, 요소 개수\n",
    "np.linspace(0,1,5)"
   ]
  },
  {
   "cell_type": "code",
   "execution_count": 19,
   "metadata": {},
   "outputs": [
    {
     "data": {
      "text/plain": [
       "array([[0.96563599, 0.43952393],\n",
       "       [0.34032097, 0.50817114]])"
      ]
     },
     "execution_count": 19,
     "metadata": {},
     "output_type": "execute_result"
    }
   ],
   "source": [
    "# 난수 활용\n",
    "np.random.random((2,2))\n",
    "# 0~1 사이 균일 분포 난수 생성\n",
    "# (2,2) : size(튜플 형식) >> 매개 변수로 받아서 난수 생성"
   ]
  },
  {
   "cell_type": "code",
   "execution_count": 21,
   "metadata": {},
   "outputs": [
    {
     "data": {
      "text/plain": [
       "array([[0.05913027, 0.11002471],\n",
       "       [0.10245961, 0.97506559]])"
      ]
     },
     "execution_count": 21,
     "metadata": {},
     "output_type": "execute_result"
    }
   ],
   "source": [
    "np.random.rand(2,2)\n",
    "# 0~1 사이 균일 분포 난수 생성\n",
    "# 직접 차원(2,2) 인수 넣어줌"
   ]
  },
  {
   "cell_type": "code",
   "execution_count": 25,
   "metadata": {},
   "outputs": [
    {
     "data": {
      "text/plain": [
       "array([[ 0.5656336 ,  0.77257489],\n",
       "       [-0.34624933, -2.14452463]])"
      ]
     },
     "execution_count": 25,
     "metadata": {},
     "output_type": "execute_result"
    }
   ],
   "source": [
    "# (평균, 표준편차, 구조)\n",
    "np.random.normal(0, 1, (2,2))\n",
    "# 정규분포를 만드는데 구조 매개변수를 (2,2) 튜플로 받아서 난수 생성"
   ]
  },
  {
   "cell_type": "code",
   "execution_count": 26,
   "metadata": {},
   "outputs": [
    {
     "data": {
      "text/plain": [
       "array([[ 1.26744612,  0.20222846],\n",
       "       [-4.04364808, -0.36695351]])"
      ]
     },
     "execution_count": 26,
     "metadata": {},
     "output_type": "execute_result"
    }
   ],
   "source": [
    "np.random.randn(2,2)\n",
    "# rand인데 정규 분포를 따르는 값으로 생성\n",
    "# 평균 0 표준편차 1을 입력 안해줘도 default 값으로 지정되어 있음"
   ]
  },
  {
   "cell_type": "code",
   "execution_count": 30,
   "metadata": {},
   "outputs": [
    {
     "data": {
      "text/plain": [
       "array([[7, 2],\n",
       "       [2, 1]])"
      ]
     },
     "execution_count": 30,
     "metadata": {},
     "output_type": "execute_result"
    }
   ],
   "source": [
    "np.random.randint(0, 10, (2,2))\n",
    "# 0이상 10미만의 정수 범위에서 (2,2) 구조의 배열을 만든다"
   ]
  },
  {
   "cell_type": "code",
   "execution_count": 33,
   "metadata": {},
   "outputs": [
    {
     "data": {
      "text/plain": [
       "array([[4, 2, 5, 9],\n",
       "       [3, 8, 9, 8],\n",
       "       [9, 6, 8, 9]])"
      ]
     },
     "execution_count": 33,
     "metadata": {},
     "output_type": "execute_result"
    }
   ],
   "source": [
    "# 배열의 기초\n",
    "\n",
    "np.random.randint(10, size = (3,4))"
   ]
  },
  {
   "cell_type": "code",
   "execution_count": 35,
   "metadata": {},
   "outputs": [
    {
     "name": "stdout",
     "output_type": "stream",
     "text": [
      "2\n",
      "(3, 4)\n",
      "12\n",
      "int32\n"
     ]
    }
   ],
   "source": [
    "x = np.random.randint(10, size = (3,4))\n",
    "\n",
    "print(x.ndim) # 차원\n",
    "print(x.shape) # 형태 (n,m)\n",
    "print(x.size) # 크기(원소의 개수)\n",
    "print(x.dtype) # 데이터 타입"
   ]
  },
  {
   "cell_type": "code",
   "execution_count": 36,
   "metadata": {},
   "outputs": [
    {
     "data": {
      "text/plain": [
       "array([0, 1, 2, 3, 4, 5, 6])"
      ]
     },
     "execution_count": 36,
     "metadata": {},
     "output_type": "execute_result"
    }
   ],
   "source": [
    "# indexing과 slicing\n",
    "\n",
    "np.arange(7)"
   ]
  },
  {
   "cell_type": "code",
   "execution_count": 38,
   "metadata": {},
   "outputs": [
    {
     "name": "stdout",
     "output_type": "stream",
     "text": [
      "3\n",
      "4\n",
      "[10  1  2  3  4  5  6]\n"
     ]
    }
   ],
   "source": [
    "# indexing\n",
    "a = np.arange(7)\n",
    "\n",
    "print(a[3])\n",
    "print(a[-3])\n",
    "\n",
    "a[0] = 10\n",
    "print(a)"
   ]
  },
  {
   "cell_type": "code",
   "execution_count": 46,
   "metadata": {},
   "outputs": [
    {
     "name": "stdout",
     "output_type": "stream",
     "text": [
      "[10  1  2  3  4  5  6]\n",
      "\n",
      "[1 2 3]\n",
      "[1 2 3 4 5 6]\n",
      "[10  2  4  6]\n",
      "[ 6  5  4  3  2  1 10]\n",
      "[ 4  3  2  1 10]\n"
     ]
    }
   ],
   "source": [
    "# slicing\n",
    "\n",
    "print(a)\n",
    "print()\n",
    "print(a[1:4]) # 1이상 4미만\n",
    "print(a[1:]) # 1번째 부터 끝까지\n",
    "print(a[::2]) # 전체를 2의 인터벌로 추출\n",
    "print(a[::-1]) # 역순\n",
    "print(a[-3::-1]) # 역순으로 추출하는데 역순에서 -3번째부터 끝까지"
   ]
  },
  {
   "cell_type": "code",
   "execution_count": 51,
   "metadata": {},
   "outputs": [
    {
     "name": "stdout",
     "output_type": "stream",
     "text": [
      "[0 1 2 3 4 5 6 7]\n",
      "\n",
      "(8,)\n",
      "\n",
      "[[0 1 2 3]\n",
      " [4 5 6 7]]\n",
      "(2, 4)\n"
     ]
    }
   ],
   "source": [
    "# reshape (형태 변경) (중요)\n",
    "\n",
    "x = np.arange(8)\n",
    "print(x)\n",
    "print()\n",
    "print(x.shape)\n",
    "print()\n",
    "\n",
    "x2 = x.reshape((2,4))\n",
    "print(x2) # 2차원 (2,4) 행렬로 변환\n",
    "print(x2.shape)"
   ]
  },
  {
   "cell_type": "code",
   "execution_count": 55,
   "metadata": {},
   "outputs": [
    {
     "name": "stdout",
     "output_type": "stream",
     "text": [
      "[0 1 2]\n",
      "[3 4 5]\n",
      "[0 1 2 3 4 5]\n"
     ]
    }
   ],
   "source": [
    "# concatenate(이어 붙이기)\n",
    "\n",
    "x1 = np.array([0, 1, 2])\n",
    "x2 = np.array([3, 4, 5])\n",
    "\n",
    "print(x1)\n",
    "print(x2)\n",
    "print(np.concatenate([x1,x2]))"
   ]
  },
  {
   "cell_type": "code",
   "execution_count": 58,
   "metadata": {},
   "outputs": [
    {
     "name": "stdout",
     "output_type": "stream",
     "text": [
      "[[0 1]\n",
      " [2 3]]\n",
      "\n",
      "[[0 1]\n",
      " [2 3]\n",
      " [0 1]\n",
      " [2 3]]\n",
      "\n",
      "[[0 1]\n",
      " [2 3]\n",
      " [0 1]\n",
      " [2 3]]\n",
      "\n",
      "[[0 1 0 1]\n",
      " [2 3 2 3]]\n",
      "\n"
     ]
    }
   ],
   "source": [
    "# concatenate(이어 붙이기) axis 축 기준 이어 붙이기\n",
    "\n",
    "m = np. arange(4).reshape(2,2)\n",
    "\n",
    "print(m)\n",
    "print()\n",
    "print(np.concatenate([m,m]))\n",
    "print()\n",
    "print(np.concatenate([m,m], axis=0))\n",
    "# axis=0 (default, 설정된 기본값)\n",
    "# 열을 기준으로 세로로 이어 붙임(행세)\n",
    "print()\n",
    "print(np.concatenate([m,m], axis=1))\n",
    "# axis=1 (축 기준 바꿈)\n",
    "# 행을 기준으로 가로로 이어 붙임(열가)\n",
    "print()\n"
   ]
  },
  {
   "cell_type": "code",
   "execution_count": 62,
   "metadata": {},
   "outputs": [
    {
     "name": "stdout",
     "output_type": "stream",
     "text": [
      "[[ 0  1  2  3]\n",
      " [ 4  5  6  7]\n",
      " [ 8  9 10 11]\n",
      " [12 13 14 15]]\n"
     ]
    }
   ],
   "source": [
    "# split(나누기)\n",
    "np.arange(16).reshape(4,4)\n",
    "\n",
    "m = np.arange(16).reshape(4,4)\n",
    "\n",
    "print(m)"
   ]
  },
  {
   "cell_type": "code",
   "execution_count": 64,
   "metadata": {},
   "outputs": [
    {
     "name": "stdout",
     "output_type": "stream",
     "text": [
      "[array([[ 0,  1,  2,  3],\n",
      "       [ 4,  5,  6,  7],\n",
      "       [ 8,  9, 10, 11]]), array([[12, 13, 14, 15]])]\n"
     ]
    }
   ],
   "source": [
    "print(np.split(m, [3], axis=0))\n",
    "# 자를 배열, 기준, 기준 축\n",
    "# m을 3의 열을 기준으로 나눠줘"
   ]
  },
  {
   "cell_type": "code",
   "execution_count": 66,
   "metadata": {},
   "outputs": [
    {
     "name": "stdout",
     "output_type": "stream",
     "text": [
      "[[ 0  1  2  3]\n",
      " [ 4  5  6  7]\n",
      " [ 8  9 10 11]]\n",
      "\n",
      "[[12 13 14 15]]\n"
     ]
    }
   ],
   "source": [
    "# 자른 배열 할당해서 출력하기\n",
    "m1, m2 = np.split(m, [3], axis=0)\n",
    "\n",
    "print(m1)\n",
    "print()\n",
    "print(m2)"
   ]
  },
  {
   "cell_type": "code",
   "execution_count": 65,
   "metadata": {},
   "outputs": [
    {
     "name": "stdout",
     "output_type": "stream",
     "text": [
      "[array([[ 0,  1,  2],\n",
      "       [ 4,  5,  6],\n",
      "       [ 8,  9, 10],\n",
      "       [12, 13, 14]]), array([[ 3],\n",
      "       [ 7],\n",
      "       [11],\n",
      "       [15]])]\n"
     ]
    }
   ],
   "source": [
    "print(np.split(m, [3], axis=1))\n",
    "# 자를 배열, 기준, 기준 축\n",
    "# m을 3의 행을 기준으로 나눠줘"
   ]
  },
  {
   "cell_type": "code",
   "execution_count": 67,
   "metadata": {},
   "outputs": [
    {
     "name": "stdout",
     "output_type": "stream",
     "text": [
      "[[ 0  1  2]\n",
      " [ 4  5  6]\n",
      " [ 8  9 10]\n",
      " [12 13 14]]\n",
      "\n",
      "[[ 3]\n",
      " [ 7]\n",
      " [11]\n",
      " [15]]\n"
     ]
    }
   ],
   "source": [
    "# 자른 배열 할당해서 출력하기\n",
    "m3, m4 = np.split(m, [3], axis=1)\n",
    "\n",
    "print(m3)\n",
    "print()\n",
    "print(m4)"
   ]
  },
  {
   "cell_type": "markdown",
   "metadata": {},
   "source": [
    "넘파이 연산"
   ]
  },
  {
   "cell_type": "code",
   "execution_count": 73,
   "metadata": {},
   "outputs": [
    {
     "name": "stdout",
     "output_type": "stream",
     "text": [
      "[4 3 3 3 6]\n",
      "[ 9.  8.  8.  8. 11.]\n"
     ]
    }
   ],
   "source": [
    "# array의 모든 원소에 5를 더하는 함수 생성\n",
    "\n",
    "def add_5(v):\n",
    "    output = np.empty(len(v))\n",
    "    \n",
    "    for i in range(len(v)):\n",
    "        output[i] = v[i] + 5\n",
    "    return output\n",
    "\n",
    "v = np.random.randint(1,10,(5))\n",
    "\n",
    "print(v)\n",
    "print(add_5(v))"
   ]
  },
  {
   "cell_type": "code",
   "execution_count": 78,
   "metadata": {},
   "outputs": [
    {
     "name": "stdout",
     "output_type": "stream",
     "text": [
      "[13. 10.  9. ...  9.  8.  6.]\n"
     ]
    }
   ],
   "source": [
    "# loop vs numpy\n",
    "\n",
    "big_arr = np.random.randint(1,10,(10000000))\n",
    "\n",
    "print(add_5(big_arr))"
   ]
  },
  {
   "cell_type": "code",
   "execution_count": 80,
   "metadata": {},
   "outputs": [
    {
     "name": "stdout",
     "output_type": "stream",
     "text": [
      "[13 10  9 ...  9  8  6]\n"
     ]
    }
   ],
   "source": [
    "# 브로드 캐스팅 되어 계산\n",
    "# loop 보다 빠르고 함수 만들 필요 없음\n",
    "print(big_arr + 5)"
   ]
  },
  {
   "cell_type": "code",
   "execution_count": 69,
   "metadata": {},
   "outputs": [
    {
     "data": {
      "text/plain": [
       "array([0.00000000e+000, 1.11408641e-311, 1.11408641e-311, 1.11408641e-311,\n",
       "       0.00000000e+000])"
      ]
     },
     "execution_count": 69,
     "metadata": {},
     "output_type": "execute_result"
    }
   ],
   "source": [
    "# 5개의 원소를 가진 1차원 배열 생성\n",
    "# 초기화는 되어 있지 않음 >> 배열의 메모리 공간은 할당되었지만 그 안의 값은 랜덤이거나 기본값으로 설정되지 않았다\n",
    "# 여기에 출력되는 값은 메모리에 이미 존재한 임의의 값으로 배열 채움\n",
    "np.empty(5)"
   ]
  },
  {
   "cell_type": "code",
   "execution_count": 81,
   "metadata": {},
   "outputs": [
    {
     "data": {
      "text/plain": [
       "array([0, 1, 2, 3])"
      ]
     },
     "execution_count": 81,
     "metadata": {},
     "output_type": "execute_result"
    }
   ],
   "source": [
    "# 기본 연산\n",
    "\n",
    "np.arange(4)"
   ]
  },
  {
   "cell_type": "code",
   "execution_count": 82,
   "metadata": {},
   "outputs": [
    {
     "name": "stdout",
     "output_type": "stream",
     "text": [
      "[5 6 7 8]\n",
      "[-5 -4 -3 -2]\n",
      "[ 0  5 10 15]\n",
      "[0.  0.2 0.4 0.6]\n"
     ]
    }
   ],
   "source": [
    "x = np.arange(4)\n",
    "\n",
    "print(x+5)\n",
    "print(x-5)\n",
    "print(x*5)\n",
    "print(x/5)"
   ]
  },
  {
   "cell_type": "code",
   "execution_count": 83,
   "metadata": {},
   "outputs": [
    {
     "name": "stdout",
     "output_type": "stream",
     "text": [
      "[[ 6  2]\n",
      " [11 10]]\n",
      "[[-6  0]\n",
      " [-7 -4]]\n",
      "[[ 0  1]\n",
      " [18 21]]\n",
      "[[0.         1.        ]\n",
      " [0.22222222 0.42857143]]\n"
     ]
    }
   ],
   "source": [
    "# 행렬 간 연산\n",
    "\n",
    "x = np.arange(4).reshape((2,2))\n",
    "\n",
    "y = np.random.randint(0,10,(2,2))\n",
    "\n",
    "print(x+y)\n",
    "print(x-y)\n",
    "print(x*y)\n",
    "print(x/y)\n"
   ]
  },
  {
   "cell_type": "code",
   "execution_count": 86,
   "metadata": {},
   "outputs": [
    {
     "name": "stdout",
     "output_type": "stream",
     "text": [
      "[[0 1]\n",
      " [2 3]]\n",
      "\n",
      "[[5 6]\n",
      " [7 8]]\n"
     ]
    }
   ],
   "source": [
    "# 브로드 캐스팅 (BroadCasting) : 행렬의 모양이 달라도 행 또는 열 중 하나만 수가 같으면 연산 가능\n",
    "\n",
    "print(x)\n",
    "print()\n",
    "print(x+5) # (2,2)배열 x에 5라는 스칼라 값을 더할 수 있는게 브로드 캐스팅 때문이다."
   ]
  },
  {
   "cell_type": "code",
   "execution_count": 93,
   "metadata": {},
   "outputs": [
    {
     "name": "stdout",
     "output_type": "stream",
     "text": [
      "[[0 1 2 3]\n",
      " [4 5 6 7]]\n",
      "28\n",
      "0\n",
      "7\n",
      "3.5\n"
     ]
    }
   ],
   "source": [
    "# 집계 함수\n",
    "\n",
    "x = np.arange(8).reshape((2,-1))\n",
    "\n",
    "print(x)\n",
    "print(np.sum(x))\n",
    "print(np.min(x))\n",
    "print(np.max(x))\n",
    "print(np.mean(x))\n"
   ]
  },
  {
   "cell_type": "code",
   "execution_count": 95,
   "metadata": {},
   "outputs": [
    {
     "name": "stdout",
     "output_type": "stream",
     "text": [
      "[[0 1 2 3]\n",
      " [4 5 6 7]]\n",
      "\n",
      "[ 4  6  8 10]\n",
      "\n",
      "[ 6 22]\n"
     ]
    }
   ],
   "source": [
    "# axis 사용, 집계하기\n",
    "\n",
    "x = np.arange(8).reshape((2,-1))\n",
    "\n",
    "print(x)\n",
    "print()\n",
    "print(np.sum(x, axis=0))\n",
    "# 행을 기준으로 세로로 더함\n",
    "# 1열의 1행, 2행을 더한 값 : 4\n",
    "# 2열의 1행, 2행을 더한 값 : 6\n",
    "# 3열의 1행, 2행을 더한 값 : 8\n",
    "# 4열의 1행, 2행을 더한 값 : 10\n",
    "# 결과값 [4 6 8 10]\n",
    "print()\n",
    "print(np.sum(x, axis=1))\n",
    "# 열을 기준으로 가로로 더함\n",
    "# 1행의 1열, 2열, 3열, 4열을 더한 값 : 6\n",
    "# 2행의 1열, 2열, 3열, 4열을 더한 값 : 22\n",
    "# 결과값 [6 22]"
   ]
  },
  {
   "cell_type": "code",
   "execution_count": 100,
   "metadata": {},
   "outputs": [
    {
     "name": "stdout",
     "output_type": "stream",
     "text": [
      "[ True  True  True False False]\n",
      "\n",
      "[False False False False  True]\n",
      "활용\n",
      "[0 1 2]\n",
      "실무 활용\n",
      "[0 1 2]\n"
     ]
    }
   ],
   "source": [
    "x = np.arange(5)\n",
    "\n",
    "print(x<3)\n",
    "print()\n",
    "print(x>3)\n",
    "\n",
    "# 활용\n",
    "print('활용')\n",
    "print(x[x<3]) # x의 요소 중 3 보다 작은 값을 출력해줘\n",
    "\n",
    "# 실무 활용\n",
    "print('실무 활용')\n",
    "condition = x < 3\n",
    "print(x[condition])"
   ]
  },
  {
   "cell_type": "code",
   "execution_count": null,
   "metadata": {},
   "outputs": [],
   "source": []
  }
 ],
 "metadata": {
  "kernelspec": {
   "display_name": "base",
   "language": "python",
   "name": "python3"
  },
  "language_info": {
   "codemirror_mode": {
    "name": "ipython",
    "version": 3
   },
   "file_extension": ".py",
   "mimetype": "text/x-python",
   "name": "python",
   "nbconvert_exporter": "python",
   "pygments_lexer": "ipython3",
   "version": "3.11.7"
  }
 },
 "nbformat": 4,
 "nbformat_minor": 2
}
